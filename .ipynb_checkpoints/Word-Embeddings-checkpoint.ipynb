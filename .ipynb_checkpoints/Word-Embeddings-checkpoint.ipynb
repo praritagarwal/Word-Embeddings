{
 "cells": [
  {
   "cell_type": "markdown",
   "metadata": {},
   "source": [
    "In this notebook we will learn how to create and train an embedding layer for the words appearing in a text data. We will then train a simple DNN based model to do sentiment analysis on this data. "
   ]
  },
  {
   "cell_type": "markdown",
   "metadata": {},
   "source": [
    "## Exercise"
   ]
  },
  {
   "cell_type": "markdown",
   "metadata": {},
   "source": [
    "This is exercise 13.10 in [this](https://www.oreilly.com/library/view/hands-on-machine-learning/9781492032632/) book."
   ]
  },
  {
   "cell_type": "markdown",
   "metadata": {},
   "source": [
    "### Problem Statement"
   ]
  },
  {
   "cell_type": "markdown",
   "metadata": {},
   "source": [
    "In this exercise you will download a dataset, split it, create a tf.data.Dataset to load it and preprocess it efficiently, then build and train a binary classification model containing an Embedding layer:\n",
    "\n",
    "  - a. Download the [Large Movie Review Dataset](http://ai.stanford.edu/~amaas/data/sentiment/), which contains 50,000 movies reviews from the Internet Movie Database. The data is organized in two directories, train and test, each containing a pos subdirectory with 12,500 positive reviews and a neg subdirectory with 12,500 negative reviews. Each review is stored in a separate text file. There are other files and folders (including preprocessed bag-of-words), but we will ignore them in this exercise.\n",
    "  \n",
    "    \n",
    "  - b. Split the test set into a validation set (15,000) and a test set (10,000).\n",
    "  \n",
    "  \n",
    "  - c. Use tf.data to create an efficient dataset for each set.\n",
    "  \n",
    "  \n",
    "  - d. Create a binary classification model, using a TextVectorization layer to preprocess each review. If the TextVectorization layer is not yet available (or if you like a challenge), try to create your own custom preprocessing layer: you can use the functions in the tf.strings package, for example lower() to make everything lowercase, regex_replace() to replace punctuation with spaces, and split() to split words on spaces. You should use a lookup table to output word indices, which must be prepared in the adapt() method.\n",
    "  \n",
    "  \n",
    "  - e. Add an Embedding layer and compute the mean embedding for each review, multiplied by the square root of the number of words (see Chapter 16). This rescaled mean embedding can then be passed to the rest of your model.\n",
    "  \n",
    "  \n",
    "  - f. Train the model and see what accuracy you get. Try to optimize your pipelines to make training as fast as possible.\n",
    "\n",
    "\n",
    "  - g. Use TFDS to load the same dataset more easily: tfds.load(\"imdb_reviews\")."
   ]
  },
  {
   "cell_type": "code",
   "execution_count": 1,
   "metadata": {},
   "outputs": [
    {
     "name": "stdout",
     "output_type": "stream",
     "text": [
      "tensorflow version: 2.1.0\n",
      "keras version: 2.2.4-tf\n"
     ]
    }
   ],
   "source": [
    "import tensorflow as tf\n",
    "import tensorflow.keras as keras\n",
    "print('tensorflow version: {}'.format(tf.__version__))\n",
    "print('keras version: {}'.format(keras.__version__))"
   ]
  },
  {
   "cell_type": "code",
   "execution_count": 2,
   "metadata": {},
   "outputs": [
    {
     "name": "stdout",
     "output_type": "stream",
     "text": [
      "cwd: /home/prarit/MachineLearningProjects/Word-Embeddings\n"
     ]
    }
   ],
   "source": [
    "import os\n",
    "print('cwd: {}'.format(os.getcwd()))"
   ]
  },
  {
   "cell_type": "markdown",
   "metadata": {},
   "source": [
    "### Downloading the Large Movie Review Dataset"
   ]
  },
  {
   "cell_type": "code",
   "execution_count": 3,
   "metadata": {},
   "outputs": [],
   "source": [
    "# good tutorial on using wget: https://www.tecmint.com/download-and-extract-tar-files-with-one-command/\n",
    "# turn off verbose output of wget using the flag -nv : https://shapeshed.com/unix-wget/#how-to-turn-off-verbose-output \n",
    "!wget -c -nv http://ai.stanford.edu/~amaas/data/sentiment/aclImdb_v1.tar.gz -o - "
   ]
  },
  {
   "cell_type": "code",
   "execution_count": 4,
   "metadata": {},
   "outputs": [],
   "source": [
    "# uncompress the downloaded files\n",
    "!tar xzf aclImdb_v1.tar.gz"
   ]
  },
  {
   "cell_type": "markdown",
   "metadata": {},
   "source": [
    "Note that tensorflow also provides this dataset: https://www.tensorflow.org/api_docs/python/tf/keras/datasets/imdb"
   ]
  },
  {
   "cell_type": "markdown",
   "metadata": {},
   "source": [
    "### Briefly Explore the Dataset"
   ]
  },
  {
   "cell_type": "code",
   "execution_count": 5,
   "metadata": {},
   "outputs": [
    {
     "data": {
      "text/plain": [
       "['README.md',\n",
       " '.gitignore',\n",
       " '.ipynb_checkpoints',\n",
       " '.git',\n",
       " 'aclImdb',\n",
       " 'Word-Embeddings.ipynb',\n",
       " 'aclImdb_v1.tar.gz']"
      ]
     },
     "execution_count": 5,
     "metadata": {},
     "output_type": "execute_result"
    }
   ],
   "source": [
    "# list the files in the current working directory\n",
    "os.listdir()"
   ]
  },
  {
   "cell_type": "markdown",
   "metadata": {},
   "source": [
    "We see that aclImdb_v1.tar.gz was extracted to a folder called aclImdb. Let's see the contents of this file."
   ]
  },
  {
   "cell_type": "code",
   "execution_count": 6,
   "metadata": {},
   "outputs": [
    {
     "name": "stdout",
     "output_type": "stream",
     "text": [
      "The contents of aclImdb are: \n",
      "['imdb.vocab', 'train', 'README', 'imdbEr.txt', 'test']\n"
     ]
    }
   ],
   "source": [
    "path = os.path.join(os.getcwd() , 'aclImdb')\n",
    "contents = os.listdir(path)\n",
    "print('The contents of aclImdb are: \\n{}'.format(contents))"
   ]
  },
  {
   "cell_type": "markdown",
   "metadata": {},
   "source": [
    "There is a README file in aclImdb, let us read it."
   ]
  },
  {
   "cell_type": "code",
   "execution_count": 7,
   "metadata": {
    "scrolled": true
   },
   "outputs": [
    {
     "name": "stdout",
     "output_type": "stream",
     "text": [
      "Large Movie Review Dataset v1.0\n",
      "\n",
      "Overview\n",
      "\n",
      "This dataset contains movie reviews along with their associated binary\n",
      "sentiment polarity labels. It is intended to serve as a benchmark for\n",
      "sentiment classification. This document outlines how the dataset was\n",
      "gathered, and how to use the files provided. \n",
      "\n",
      "Dataset \n",
      "\n",
      "The core dataset contains 50,000 reviews split evenly into 25k train\n",
      "and 25k test sets. The overall distribution of labels is balanced (25k\n",
      "pos and 25k neg). We also include an additional 50,000 unlabeled\n",
      "documents for unsupervised learning. \n",
      "\n",
      "In the entire collection, no more than 30 reviews are allowed for any\n",
      "given movie because reviews for the same movie tend to have correlated\n",
      "ratings. Further, the train and test sets contain a disjoint set of\n",
      "movies, so no significant performance is obtained by memorizing\n",
      "movie-unique terms and their associated with observed labels.  In the\n",
      "labeled train/test sets, a negative review has a score <= 4 out of 10,\n",
      "and a positive review has a score >= 7 out of 10. Thus reviews with\n",
      "more neutral ratings are not included in the train/test sets. In the\n",
      "unsupervised set, reviews of any rating are included and there are an\n",
      "even number of reviews > 5 and <= 5.\n",
      "\n",
      "Files\n",
      "\n",
      "There are two top-level directories [train/, test/] corresponding to\n",
      "the training and test sets. Each contains [pos/, neg/] directories for\n",
      "the reviews with binary labels positive and negative. Within these\n",
      "directories, reviews are stored in text files named following the\n",
      "convention [[id]_[rating].txt] where [id] is a unique id and [rating] is\n",
      "the star rating for that review on a 1-10 scale. For example, the file\n",
      "[test/pos/200_8.txt] is the text for a positive-labeled test set\n",
      "example with unique id 200 and star rating 8/10 from IMDb. The\n",
      "[train/unsup/] directory has 0 for all ratings because the ratings are\n",
      "omitted for this portion of the dataset.\n",
      "\n",
      "We also include the IMDb URLs for each review in a separate\n",
      "[urls_[pos, neg, unsup].txt] file. A review with unique id 200 will\n",
      "have its URL on line 200 of this file. Due the ever-changing IMDb, we\n",
      "are unable to link directly to the review, but only to the movie's\n",
      "review page.\n",
      "\n",
      "In addition to the review text files, we include already-tokenized bag\n",
      "of words (BoW) features that were used in our experiments. These \n",
      "are stored in .feat files in the train/test directories. Each .feat\n",
      "file is in LIBSVM format, an ascii sparse-vector format for labeled\n",
      "data.  The feature indices in these files start from 0, and the text\n",
      "tokens corresponding to a feature index is found in [imdb.vocab]. So a\n",
      "line with 0:7 in a .feat file means the first word in [imdb.vocab]\n",
      "(the) appears 7 times in that review.\n",
      "\n",
      "LIBSVM page for details on .feat file format:\n",
      "http://www.csie.ntu.edu.tw/~cjlin/libsvm/\n",
      "\n",
      "We also include [imdbEr.txt] which contains the expected rating for\n",
      "each token in [imdb.vocab] as computed by (Potts, 2011). The expected\n",
      "rating is a good way to get a sense for the average polarity of a word\n",
      "in the dataset.\n",
      "\n",
      "Citing the dataset\n",
      "\n",
      "When using this dataset please cite our ACL 2011 paper which\n",
      "introduces it. This paper also contains classification results which\n",
      "you may want to compare against.\n",
      "\n",
      "\n",
      "@InProceedings{maas-EtAl:2011:ACL-HLT2011,\n",
      "  author    = {Maas, Andrew L.  and  Daly, Raymond E.  and  Pham, Peter T.  and  Huang, Dan  and  Ng, Andrew Y.  and  Potts, Christopher},\n",
      "  title     = {Learning Word Vectors for Sentiment Analysis},\n",
      "  booktitle = {Proceedings of the 49th Annual Meeting of the Association for Computational Linguistics: Human Language Technologies},\n",
      "  month     = {June},\n",
      "  year      = {2011},\n",
      "  address   = {Portland, Oregon, USA},\n",
      "  publisher = {Association for Computational Linguistics},\n",
      "  pages     = {142--150},\n",
      "  url       = {http://www.aclweb.org/anthology/P11-1015}\n",
      "}\n",
      "\n",
      "References\n",
      "\n",
      "Potts, Christopher. 2011. On the negativity of negation. In Nan Li and\n",
      "David Lutz, eds., Proceedings of Semantics and Linguistic Theory 20,\n",
      "636-659.\n",
      "\n",
      "Contact\n",
      "\n",
      "For questions/comments/corrections please contact Andrew Maas\n",
      "amaas@cs.stanford.edu\n",
      "\n"
     ]
    }
   ],
   "source": [
    "# read README\n",
    "filepath = os.path.join(path, 'README')\n",
    "with open(filepath, 'r') as f:\n",
    "    print(f.read())"
   ]
  },
  {
   "cell_type": "markdown",
   "metadata": {},
   "source": [
    "From README, we find that the train/test folder contains a 'pos' folder for positive reviews and a 'neg' for negative reviews along with .txt files containing urls of positive and negative reviews respectively. There are also some other files for bag-of-words features etc. \n",
    "\n",
    "Each train/test folder contains a total of 25000 reviews of which 12500 are positive reviews and 12500 are negative reviews.\n",
    "\n",
    "Let's verify the above about the 'train' folder"
   ]
  },
  {
   "cell_type": "code",
   "execution_count": 8,
   "metadata": {},
   "outputs": [
    {
     "name": "stdout",
     "output_type": "stream",
     "text": [
      "contents of the train folder: \n",
      "['unsup', 'urls_pos.txt', 'pos', 'labeledBow.feat', 'unsupBow.feat', 'neg', 'urls_neg.txt', 'urls_unsup.txt']\n"
     ]
    }
   ],
   "source": [
    "train_path = os.path.join(path,'train')\n",
    "print('contents of the train folder: \\n{}'.format(os.listdir(train_path)))"
   ]
  },
  {
   "cell_type": "markdown",
   "metadata": {},
   "source": [
    "In order to create a dataset, we need the path to all the reviews. We can create the corresponding list of paths using glob"
   ]
  },
  {
   "cell_type": "code",
   "execution_count": 9,
   "metadata": {},
   "outputs": [],
   "source": [
    "import glob"
   ]
  },
  {
   "cell_type": "code",
   "execution_count": 10,
   "metadata": {},
   "outputs": [
    {
     "name": "stdout",
     "output_type": "stream",
     "text": [
      "No. of train-set files with positive reviews: 12500\n"
     ]
    }
   ],
   "source": [
    "# paths to the positive reviews in the training set\n",
    "train_pos_path = os.path.join(train_path, 'pos', '*.txt')\n",
    "train_pos_reviews = glob.glob(train_pos_path)\n",
    "print('No. of train-set files with positive reviews: {}'.format(len(train_pos_reviews)))"
   ]
  },
  {
   "cell_type": "code",
   "execution_count": 11,
   "metadata": {},
   "outputs": [
    {
     "name": "stdout",
     "output_type": "stream",
     "text": [
      "No. of train-set files with negative reviews: 12500\n"
     ]
    }
   ],
   "source": [
    "# paths to the negative reviews in the training set\n",
    "train_neg_path = os.path.join(train_path, 'neg', '*.txt')\n",
    "train_neg_reviews = glob.glob(train_neg_path)\n",
    "print('No. of train-set files with negative reviews: {}'.format(len(train_neg_reviews)))"
   ]
  },
  {
   "cell_type": "markdown",
   "metadata": {},
   "source": [
    "let us give a brief look at a positive review. "
   ]
  },
  {
   "cell_type": "code",
   "execution_count": 12,
   "metadata": {},
   "outputs": [
    {
     "name": "stdout",
     "output_type": "stream",
     "text": [
      "I watch them all.<br /><br />It's not better than the amazing ones (_Strictly Ballroom_, _Shall we dance?_ (Japanese version), but it's completely respectable and pleasingly different in parts.<br /><br />I am an English teacher and I find some of the ignorance about language in some of these reviews rather upsetting. For example: the \"name should scream don't watch. 'How she move.' Since when can movie titles ignore grammar?\" <br /><br />There is nothing inherently incorrect about Caribbean English grammar. It's just not Canadian standard English grammar. Comments about the dialogue seem off to me. I put on the subtitles because I'm a Canadian standard English speaker, so I just AUTOMATICALLY assumed that I would have trouble understanding all of it. It wasn't all that difficult and it gave a distinctly different flavour as the other step movies I have seen were so American.<br /><br />I loved that this movie was set in Toronto and, in fact, wish it was even more clearly set there. I loved that the heroine was so atypically cast. I enjoyed the stepping routines. I liked the driven Mum character. I felt that many of the issues in the movie were addressed more subtly than is characteristic of dance movies.<br /><br />In summary, if you tend to like dance movies, then this is a decent one. If you have superiority issues about the grammar of the English standard you grew up speaking, your narrow mind may have difficulty enjoying this movie.\n"
     ]
    }
   ],
   "source": [
    "file = train_pos_reviews[0]\n",
    "with open(file, 'r') as f:\n",
    "    print(f.read())"
   ]
  },
  {
   "cell_type": "markdown",
   "metadata": {},
   "source": [
    "Later, we will like to load an preprocess all the data using tensorflow's data API, therefore let us quickly see how to read the same file as above but this time by using tensorflow's [TextLineDataset](https://www.tensorflow.org/api_docs/python/tf/data/TextLineDataset) method."
   ]
  },
  {
   "cell_type": "code",
   "execution_count": 13,
   "metadata": {},
   "outputs": [
    {
     "name": "stdout",
     "output_type": "stream",
     "text": [
      "tf.Tensor(b'I watch them all.<br /><br />It\\'s not better than the amazing ones (_Strictly Ballroom_, _Shall we dance?_ (Japanese version), but it\\'s completely respectable and pleasingly different in parts.<br /><br />I am an English teacher and I find some of the ignorance about language in some of these reviews rather upsetting. For example: the \"name should scream don\\'t watch. \\'How she move.\\' Since when can movie titles ignore grammar?\" <br /><br />There is nothing inherently incorrect about Caribbean English grammar. It\\'s just not Canadian standard English grammar. Comments about the dialogue seem off to me. I put on the subtitles because I\\'m a Canadian standard English speaker, so I just AUTOMATICALLY assumed that I would have trouble understanding all of it. It wasn\\'t all that difficult and it gave a distinctly different flavour as the other step movies I have seen were so American.<br /><br />I loved that this movie was set in Toronto and, in fact, wish it was even more clearly set there. I loved that the heroine was so atypically cast. I enjoyed the stepping routines. I liked the driven Mum character. I felt that many of the issues in the movie were addressed more subtly than is characteristic of dance movies.<br /><br />In summary, if you tend to like dance movies, then this is a decent one. If you have superiority issues about the grammar of the English standard you grew up speaking, your narrow mind may have difficulty enjoying this movie.', shape=(), dtype=string)\n"
     ]
    }
   ],
   "source": [
    "pos_fl0 = tf.data.TextLineDataset(file)\n",
    "for item in pos_fl0:\n",
    "    print(item)"
   ]
  },
  {
   "cell_type": "markdown",
   "metadata": {},
   "source": [
    "Perfect! As expected, we see that the pos_fl0 contains a single item and it's value output matches the output of the previous code cell. "
   ]
  },
  {
   "cell_type": "markdown",
   "metadata": {},
   "source": [
    "### Preprocessing the reviews"
   ]
  },
  {
   "cell_type": "markdown",
   "metadata": {},
   "source": [
    "Having, learnt how to use tf.data.TextLineData() method, we can now starting preprocessing the data. In order to do this, we notice that the review contains punctuation marks and html line break tags etc. We will have to write a preprocessing function to get rid of these. Additionally, we will also change all alphabets to lower case."
   ]
  },
  {
   "cell_type": "markdown",
   "metadata": {},
   "source": [
    "#### Removing line-brk tags\n",
    "\n",
    "This can be very simply done by using the .replace() method of python strings. We can therefore use it to replace all occurrances of the line-break tag with a space. In tensorflow, the equivalent method is [tf.strings.regex_replace()](https://www.tensorflow.org/api_docs/python/tf/strings/regex_replace)."
   ]
  },
  {
   "cell_type": "markdown",
   "metadata": {},
   "source": [
    "#### tf.strings.regex_replace\n",
    "Note that 'regex' in regex_replace() stands for [\"regular expression\"](https://docs.python.org/3/howto/regex.html). For e.g. the following will work:"
   ]
  },
  {
   "cell_type": "code",
   "execution_count": 14,
   "metadata": {},
   "outputs": [
    {
     "data": {
      "text/plain": [
       "<tf.Tensor: shape=(), dtype=string, numpy=b'hEllo'>"
      ]
     },
     "execution_count": 14,
     "metadata": {},
     "output_type": "execute_result"
    }
   ],
   "source": [
    "tf.strings.regex_replace('hello','e','E')"
   ]
  },
  {
   "cell_type": "markdown",
   "metadata": {},
   "source": [
    "But the following will throw an error: tf.strings.regex_replace('h(llo', '(','E')"
   ]
  },
  {
   "cell_type": "markdown",
   "metadata": {},
   "source": [
    "This is because \"(\" is a metacharacter. To match and replace meta-characters, we must prepend a backslash before them. This can be done as follows: '\\\\\\\\' + char. \n",
    "\n",
    "The previous code cell can now be made to work"
   ]
  },
  {
   "cell_type": "code",
   "execution_count": 15,
   "metadata": {},
   "outputs": [
    {
     "data": {
      "text/plain": [
       "<tf.Tensor: shape=(), dtype=string, numpy=b'hEllo'>"
      ]
     },
     "execution_count": 15,
     "metadata": {},
     "output_type": "execute_result"
    }
   ],
   "source": [
    "# The error thrown by this code cell is intentional\n",
    "tf.strings.regex_replace('h(llo', '\\\\'+'(','E')"
   ]
  },
  {
   "cell_type": "markdown",
   "metadata": {},
   "source": [
    "or equivalently:"
   ]
  },
  {
   "cell_type": "code",
   "execution_count": 16,
   "metadata": {},
   "outputs": [
    {
     "data": {
      "text/plain": [
       "<tf.Tensor: shape=(), dtype=string, numpy=b'hEllo'>"
      ]
     },
     "execution_count": 16,
     "metadata": {},
     "output_type": "execute_result"
    }
   ],
   "source": [
    "tf.strings.regex_replace('h(llo','\\(','E')"
   ]
  },
  {
   "cell_type": "markdown",
   "metadata": {},
   "source": [
    "##### Imp: \n",
    "\n",
    "Note that backslash itself is also a  meta-character. To search and replace backslash, we do the following:"
   ]
  },
  {
   "cell_type": "code",
   "execution_count": 17,
   "metadata": {},
   "outputs": [
    {
     "data": {
      "text/plain": [
       "<tf.Tensor: shape=(), dtype=string, numpy=b'hEllo'>"
      ]
     },
     "execution_count": 17,
     "metadata": {},
     "output_type": "execute_result"
    }
   ],
   "source": [
    "tf.strings.regex_replace('h\\llo', '\\\\'+'\\\\', 'E')"
   ]
  },
  {
   "cell_type": "markdown",
   "metadata": {},
   "source": [
    "or equivalently:"
   ]
  },
  {
   "cell_type": "code",
   "execution_count": 18,
   "metadata": {},
   "outputs": [
    {
     "data": {
      "text/plain": [
       "<tf.Tensor: shape=(), dtype=string, numpy=b'hEllo'>"
      ]
     },
     "execution_count": 18,
     "metadata": {},
     "output_type": "execute_result"
    }
   ],
   "source": [
    "# we use '\\\\\\\\' and NOT '\\\\' to search and replace a backslash\n",
    "tf.strings.regex_replace('h\\llo', '\\\\\\\\', 'E')"
   ]
  },
  {
   "cell_type": "markdown",
   "metadata": {},
   "source": [
    "We now try three different ways of removing punctuations from a tensorflow string and compare their timings:\n",
    "\n",
    "1) punc_filter_and_to_lower1: use tf.strings.unicode_decode() to convert all the characters in the string into an array of their ascii codes. We then loop through this array, skipping over the places where the entry matches the ascii code of a punctuation. Finally we call tf.strings.unicode_encode() on this array to convert the ascii codes back to characters, thereby obtaining a string with all the punctuations stripped. \n",
    "\n",
    "\n",
    "2) punc_filter_and_to_lower2: use tf.regex_replace() to search and replace each punctuation by empty space. Pay special attention to prepend backslash in order to be able to use meta-characters in regex_replace.\n",
    "\n",
    "\n",
    "3) punc_filter_and_to_lower3: simply extract the python string using its .numpy() method. Then simple iterate through the characters of the string, skipping over the punctutations. Join the resulting list of character using .join() method. \n",
    "\n",
    "4) punc_filter_and_to_lower4: Use [tfds.features.text.Tokenizer()](https://www.tensorflow.org/datasets/api_docs/python/tfds/features/text/Tokenizer) by setting it's \"alphanum_only\" arg to True. This way it will only parse alpha-numeric characters in the text and to split the text at occurrances of non-alphanumeric characters. Since whitespace is a non-alpha-numeric character, the output will largely consist of a list of words in the text.  The caeat with this approach is that words with apostrophe in them such as \" don't \" will be split into two words: \"don\" and \"t\". Also, [tfds.features.text.Tokenizer()](https://www.tensorflow.org/datasets/api_docs/python/tfds/features/text/Tokenizer) does NOT consider underscores as non-alpha-numeric, so underscores do not get removed form the text. On the other hand since, the tokenizer already generates a list of words, we use this list to generate a vocobulary of words in the dataset at this step it-self, making the preprocessing faster.\n",
    "\n",
    "There timing on the first review in the training set was as follows:\n",
    "\n",
    "1) punc_filter_and_to_lower1: Wall time: ~ 3 s\n",
    "\n",
    "2) punc_filter_and_to_lower2: Wall time: ~ 8 ms\n",
    "\n",
    "3) punc_filter_and_to_lower3: Wall time: ~ 6 ms\n",
    "\n",
    "4) punc_filter_and_to_lower4: Wall time: ~ 6 ms (when not udating a vocabulary of words) \n",
    "\n",
    "5) 4) punc_filter_and_to_lower4: Wall time: ~ 7 ms (when also udating a vocabulary of words) \n",
    "\n",
    "Clearly, the last function is the fastest with the first one being extremely slow (takes several secs). "
   ]
  },
  {
   "cell_type": "code",
   "execution_count": 19,
   "metadata": {},
   "outputs": [],
   "source": [
    "import string"
   ]
  },
  {
   "cell_type": "code",
   "execution_count": 20,
   "metadata": {},
   "outputs": [
    {
     "name": "stdout",
     "output_type": "stream",
     "text": [
      "punctuations before utf encoding: !\"#$%&'()*+,-./:;<=>?@[\\]^_`{|}~\n",
      "punctuations after utf encoding: \n",
      "[ 33  34  35  36  37  38  39  40  41  42  43  44  45  46  47  58  59  60\n",
      "  61  62  63  64  91  92  93  94  95  96 123 124 125 126]\n"
     ]
    }
   ],
   "source": [
    "# list of punctuations\n",
    "punc_ls = string.punctuation\n",
    "print('punctuations before utf encoding: {}'.format(punc_ls))\n",
    "punc_ls2 = tf.strings.unicode_decode(punc_ls, input_encoding = 'UTF-8')\n",
    "print('punctuations after utf encoding: \\n{}'.format(punc_ls2))"
   ]
  },
  {
   "cell_type": "code",
   "execution_count": 21,
   "metadata": {},
   "outputs": [],
   "source": [
    "# function to get rid of punctuations, html line breaks and change to lower case\n",
    "# using tf.strings.unicode_encode(), tf.strings.unicode_decode()\n",
    "def punc_filter_and_to_lower1(st):\n",
    "    \n",
    "    # before removing punctuations, we should remove the html line-break tag\n",
    "    # this is because the line break tag contains <,/ and > characters which \n",
    "    # will be removed if we remove punctuations first. This will then make it harder \n",
    "    # to identify the line-break-tag\n",
    "    line_brk_tag = \"<br /><br />\" \n",
    "    st2 = tf.strings.regex_replace(st, line_brk_tag, ' ') # regex stands for regular expressions\n",
    "                                                          # i.e. they are not metacharacters\n",
    "                                                          # https://docs.python.org/3/howto/regex.html#matching-characters\n",
    "    \n",
    "    # now we replace all the punctions in the string\n",
    "    st2 = tf.strings.unicode_decode(st2, input_encoding = 'utf-8')\n",
    "    st2 = tf.strings.unicode_encode([char for char in st2 if char not in punc_ls2], output_encoding = 'UTF-8')\n",
    "    \n",
    "    st2 = tf.strings.lower(st2)\n",
    "    \n",
    "    return st2"
   ]
  },
  {
   "cell_type": "code",
   "execution_count": 22,
   "metadata": {},
   "outputs": [],
   "source": [
    "import time"
   ]
  },
  {
   "cell_type": "code",
   "execution_count": 23,
   "metadata": {},
   "outputs": [
    {
     "name": "stdout",
     "output_type": "stream",
     "text": [
      "CPU times: user 3.51 s, sys: 42.3 ms, total: 3.55 s\n",
      "Wall time: 3.55 s\n"
     ]
    }
   ],
   "source": [
    "%%time\n",
    "for item in pos_fl0:\n",
    "    lst = punc_filter_and_to_lower1(item)"
   ]
  },
  {
   "cell_type": "code",
   "execution_count": 24,
   "metadata": {},
   "outputs": [
    {
     "data": {
      "text/plain": [
       "<tf.Tensor: shape=(), dtype=string, numpy=b'i watch them all its not better than the amazing ones strictly ballroom shall we dance japanese version but its completely respectable and pleasingly different in parts i am an english teacher and i find some of the ignorance about language in some of these reviews rather upsetting for example the name should scream dont watch how she move since when can movie titles ignore grammar  there is nothing inherently incorrect about caribbean english grammar its just not canadian standard english grammar comments about the dialogue seem off to me i put on the subtitles because im a canadian standard english speaker so i just automatically assumed that i would have trouble understanding all of it it wasnt all that difficult and it gave a distinctly different flavour as the other step movies i have seen were so american i loved that this movie was set in toronto and in fact wish it was even more clearly set there i loved that the heroine was so atypically cast i enjoyed the stepping routines i liked the driven mum character i felt that many of the issues in the movie were addressed more subtly than is characteristic of dance movies in summary if you tend to like dance movies then this is a decent one if you have superiority issues about the grammar of the english standard you grew up speaking your narrow mind may have difficulty enjoying this movie'>"
      ]
     },
     "execution_count": 24,
     "metadata": {},
     "output_type": "execute_result"
    }
   ],
   "source": [
    "lst"
   ]
  },
  {
   "cell_type": "code",
   "execution_count": 25,
   "metadata": {},
   "outputs": [],
   "source": [
    "# function to get rid of punctuations, html line breaks and change to lower case\n",
    "# using tf.strings.regex_replace()\n",
    "def punc_filter_and_to_lower2(st):\n",
    "    \n",
    "    # before removing punctuations, we should remove the html line-break tag\n",
    "    # this is because the line break tag contains <,/ and > characters which \n",
    "    # will be removed if we remove punctuations first. This will then make it harder \n",
    "    # to identify the line-break-tag\n",
    "    line_brk_tag = \"<br /><br />\" \n",
    "    st2 = tf.strings.regex_replace(st, line_brk_tag, ' ')\n",
    "    \n",
    "    # now we replace all the punctions in the string\n",
    "    for punc in punc_ls:\n",
    "        # V.imp: to replace meta-characters we prepend a backslash to them \n",
    "        # infact we can also prepend a backslach before all the characters\n",
    "        # to prepend a backslash before a character we do: '\\\\' + char\n",
    "        st2 = tf.strings.regex_replace(st2, '\\\\'+ punc, ' ')\n",
    "    \n",
    "    st2 = tf.strings.lower(st2)\n",
    "    \n",
    "    return st2"
   ]
  },
  {
   "cell_type": "code",
   "execution_count": 26,
   "metadata": {},
   "outputs": [
    {
     "name": "stdout",
     "output_type": "stream",
     "text": [
      "CPU times: user 8.1 ms, sys: 7 µs, total: 8.11 ms\n",
      "Wall time: 7.73 ms\n"
     ]
    }
   ],
   "source": [
    "%%time\n",
    "for item in pos_fl0:\n",
    "    lst = punc_filter_and_to_lower2(item)"
   ]
  },
  {
   "cell_type": "code",
   "execution_count": 27,
   "metadata": {},
   "outputs": [
    {
     "data": {
      "text/plain": [
       "<tf.Tensor: shape=(), dtype=string, numpy=b'i watch them all  it s not better than the amazing ones   strictly ballroom    shall we dance    japanese version   but it s completely respectable and pleasingly different in parts  i am an english teacher and i find some of the ignorance about language in some of these reviews rather upsetting  for example  the  name should scream don t watch   how she move   since when can movie titles ignore grammar    there is nothing inherently incorrect about caribbean english grammar  it s just not canadian standard english grammar  comments about the dialogue seem off to me  i put on the subtitles because i m a canadian standard english speaker  so i just automatically assumed that i would have trouble understanding all of it  it wasn t all that difficult and it gave a distinctly different flavour as the other step movies i have seen were so american  i loved that this movie was set in toronto and  in fact  wish it was even more clearly set there  i loved that the heroine was so atypically cast  i enjoyed the stepping routines  i liked the driven mum character  i felt that many of the issues in the movie were addressed more subtly than is characteristic of dance movies  in summary  if you tend to like dance movies  then this is a decent one  if you have superiority issues about the grammar of the english standard you grew up speaking  your narrow mind may have difficulty enjoying this movie '>"
      ]
     },
     "execution_count": 27,
     "metadata": {},
     "output_type": "execute_result"
    }
   ],
   "source": [
    "lst"
   ]
  },
  {
   "cell_type": "code",
   "execution_count": 28,
   "metadata": {},
   "outputs": [],
   "source": [
    "# function to get rid of punctuations, html line breaks and change to lower case\n",
    "# using .join() method in python string class\n",
    "def punc_filter_and_to_lower3(st):\n",
    "    \n",
    "    # before removing punctuations, we should remove the html line-break tag\n",
    "    # this is because the line break tag contains <,/ and > characters which \n",
    "    # will be removed if we remove punctuations first. This will then make it harder \n",
    "    # to identify the line-break-tag\n",
    "    line_brk_tag = \"<br /><br />\" \n",
    "    st2 = tf.strings.regex_replace(st, line_brk_tag, ' ') # regex stands for regular expressions\n",
    "                                                          # i.e. they are not metacharacters\n",
    "                                                          # https://docs.python.org/3/howto/regex.html#matching-characters\n",
    "    \n",
    "    # now we replace all the punctions in the string\n",
    "    st2 = st2.numpy().decode('utf-8')\n",
    "    st2 = ''.join([char for char in st2 if char not in punc_ls])\n",
    "    \n",
    "    st2 = st2.lower()\n",
    "    \n",
    "    st2 = tf.convert_to_tensor(st2)\n",
    "    \n",
    "    return st2"
   ]
  },
  {
   "cell_type": "code",
   "execution_count": 29,
   "metadata": {},
   "outputs": [
    {
     "name": "stdout",
     "output_type": "stream",
     "text": [
      "CPU times: user 5.48 ms, sys: 253 µs, total: 5.73 ms\n",
      "Wall time: 5.54 ms\n"
     ]
    }
   ],
   "source": [
    "%%time\n",
    "for item in pos_fl0:\n",
    "    lst = punc_filter_and_to_lower3(item)"
   ]
  },
  {
   "cell_type": "code",
   "execution_count": 30,
   "metadata": {},
   "outputs": [
    {
     "data": {
      "text/plain": [
       "<tf.Tensor: shape=(), dtype=string, numpy=b'i watch them all its not better than the amazing ones strictly ballroom shall we dance japanese version but its completely respectable and pleasingly different in parts i am an english teacher and i find some of the ignorance about language in some of these reviews rather upsetting for example the name should scream dont watch how she move since when can movie titles ignore grammar  there is nothing inherently incorrect about caribbean english grammar its just not canadian standard english grammar comments about the dialogue seem off to me i put on the subtitles because im a canadian standard english speaker so i just automatically assumed that i would have trouble understanding all of it it wasnt all that difficult and it gave a distinctly different flavour as the other step movies i have seen were so american i loved that this movie was set in toronto and in fact wish it was even more clearly set there i loved that the heroine was so atypically cast i enjoyed the stepping routines i liked the driven mum character i felt that many of the issues in the movie were addressed more subtly than is characteristic of dance movies in summary if you tend to like dance movies then this is a decent one if you have superiority issues about the grammar of the english standard you grew up speaking your narrow mind may have difficulty enjoying this movie'>"
      ]
     },
     "execution_count": 30,
     "metadata": {},
     "output_type": "execute_result"
    }
   ],
   "source": [
    "lst"
   ]
  },
  {
   "cell_type": "code",
   "execution_count": 31,
   "metadata": {},
   "outputs": [],
   "source": [
    "# function to get rid of punctuations, html line breaks and change to lower case\n",
    "# using tfds.features.text.tokenizer()\n",
    "# we will also simultaneously generate a vocabulary in this step\n",
    "import tensorflow_datasets as tfds\n",
    "def punc_filter_and_to_lower4(st, vocab = None):\n",
    "    ''' vocab: vocabulary to update with the words in st'''\n",
    "    \n",
    "    # before removing punctuations, we should remove the html line-break tag\n",
    "    # this is because the line break tag contains <,/ and > characters which \n",
    "    # will be removed if we remove punctuations first. This will then make it harder \n",
    "    # to identify the line-break-tag\n",
    "    line_brk_tag = \"<br /><br />\" \n",
    "    st2 = tf.strings.lower(tf.strings.regex_replace(st, line_brk_tag, ' '))\n",
    "    \n",
    "    # now we replace all the punctions in the string\n",
    "    tokenizer = tfds.features.text.Tokenizer()\n",
    "    words = tokenizer.tokenize(st2.numpy()) # note that the inpout has to be a python string NOT as tensor \n",
    "                                            # The output is a list NOT a tensor\n",
    "                                            # https://stackoverflow.com/questions/56665868/tensor-numpy-not-working-in-tensorflow-data-dataset-throws-the-error-attribu\n",
    "    st2 = tf.strings.join(words, ' ')\n",
    "    \n",
    "    if type(vocab) == set:\n",
    "        vocab.update(words)\n",
    "        return st2, vocab\n",
    "    \n",
    "    \n",
    "    return st2"
   ]
  },
  {
   "cell_type": "code",
   "execution_count": 32,
   "metadata": {},
   "outputs": [
    {
     "name": "stdout",
     "output_type": "stream",
     "text": [
      "CPU times: user 8.12 ms, sys: 8 µs, total: 8.12 ms\n",
      "Wall time: 7.09 ms\n"
     ]
    }
   ],
   "source": [
    "%%time\n",
    "for item in pos_fl0:\n",
    "    lst = punc_filter_and_to_lower4(item)"
   ]
  },
  {
   "cell_type": "code",
   "execution_count": 33,
   "metadata": {},
   "outputs": [
    {
     "data": {
      "text/plain": [
       "<tf.Tensor: shape=(), dtype=string, numpy=b'i watch them all it s not better than the amazing ones _strictly ballroom_ _shall we dance _ japanese version but it s completely respectable and pleasingly different in parts i am an english teacher and i find some of the ignorance about language in some of these reviews rather upsetting for example the name should scream don t watch how she move since when can movie titles ignore grammar there is nothing inherently incorrect about caribbean english grammar it s just not canadian standard english grammar comments about the dialogue seem off to me i put on the subtitles because i m a canadian standard english speaker so i just automatically assumed that i would have trouble understanding all of it it wasn t all that difficult and it gave a distinctly different flavour as the other step movies i have seen were so american i loved that this movie was set in toronto and in fact wish it was even more clearly set there i loved that the heroine was so atypically cast i enjoyed the stepping routines i liked the driven mum character i felt that many of the issues in the movie were addressed more subtly than is characteristic of dance movies in summary if you tend to like dance movies then this is a decent one if you have superiority issues about the grammar of the english standard you grew up speaking your narrow mind may have difficulty enjoying this movie'>"
      ]
     },
     "execution_count": 33,
     "metadata": {},
     "output_type": "execute_result"
    }
   ],
   "source": [
    "lst"
   ]
  },
  {
   "cell_type": "code",
   "execution_count": 34,
   "metadata": {},
   "outputs": [
    {
     "name": "stdout",
     "output_type": "stream",
     "text": [
      "CPU times: user 7.64 ms, sys: 181 µs, total: 7.82 ms\n",
      "Wall time: 7.51 ms\n"
     ]
    }
   ],
   "source": [
    "%%time\n",
    "# test the timing of punc_filter_and_to_lower4 when simultaneously updating a dictionary\n",
    "vocab2 = set([])\n",
    "for item in pos_fl0:\n",
    "    lst, vocab2 = punc_filter_and_to_lower4(item, vocab2)"
   ]
  },
  {
   "cell_type": "markdown",
   "metadata": {},
   "source": [
    "### Build a Vocabulary based on the training data"
   ]
  },
  {
   "cell_type": "markdown",
   "metadata": {},
   "source": [
    "This can be easily done using python's [set()](https://docs.python.org/3.8/library/stdtypes.html#set-types-set-frozenset) container.: basically, split each text in the training instance into words and update the set with this list. This will add any new words in the text to the set. In the end, the set will contain all the unique words in the training dataset."
   ]
  },
  {
   "cell_type": "markdown",
   "metadata": {},
   "source": [
    "Note that we have also implemented the above idea in our function punc_filter_and_to_lower4() "
   ]
  },
  {
   "cell_type": "code",
   "execution_count": 35,
   "metadata": {},
   "outputs": [],
   "source": [
    "# function to create a vocabulary using the set() container\n",
    "vocab1 = set([]) # python set for containing unique words in the training dataset\n",
    "def vocab_builder1(strng):\n",
    "    # split the string into its words\n",
    "    words = tf.strings.split(strng)\n",
    "    # update vocab\n",
    "    vocab1.update(words.numpy())\n",
    "    return"
   ]
  },
  {
   "cell_type": "code",
   "execution_count": 36,
   "metadata": {},
   "outputs": [
    {
     "name": "stdout",
     "output_type": "stream",
     "text": [
      "CPU times: user 258 ms, sys: 68.1 ms, total: 326 ms\n",
      "Wall time: 324 ms\n"
     ]
    }
   ],
   "source": [
    "%%time\n",
    "for item in pos_fl0:\n",
    "    item = punc_filter_and_to_lower3(item)\n",
    "    vocab_builder1(item)"
   ]
  },
  {
   "cell_type": "markdown",
   "metadata": {},
   "source": [
    "Note that the vocab_builder1() function as defined above takes about 300 ms. On the otherhand, in punc_filter_and_to_lower4() function,  we were able to get almost the same result (upto the caveats mentioned in the previous section) by using tfds.features.text.Tokenizer(), in about 8 ms. Clearly, there is a difference of few order of magnitude between the time taken by the two routines with the difference between their output being quite tolerable.  "
   ]
  },
  {
   "cell_type": "markdown",
   "metadata": {},
   "source": [
    "#### building the vocabulary"
   ]
  },
  {
   "cell_type": "code",
   "execution_count": 37,
   "metadata": {},
   "outputs": [
    {
     "name": "stdout",
     "output_type": "stream",
     "text": [
      "=================================================================================================="
     ]
    }
   ],
   "source": [
    "vocab = set([])\n",
    "train_filepaths = tf.data.Dataset.list_files([train_pos_path, train_neg_path])\n",
    "train_dataset = tf.data.TextLineDataset(train_filepaths)\n",
    "\n",
    "ctr = 0\n",
    "for item in train_dataset:\n",
    "    _ , vocab = punc_filter_and_to_lower4(item, vocab)\n",
    "    \n",
    "    ctr+=1\n",
    "    if ctr%255 ==0:\n",
    "        print(\"=\", end = '')"
   ]
  },
  {
   "cell_type": "code",
   "execution_count": 38,
   "metadata": {},
   "outputs": [
    {
     "data": {
      "text/plain": [
       "['atomspheric', 'resumé', 'margarita', 'batfan', 'plagiary']"
      ]
     },
     "execution_count": 38,
     "metadata": {},
     "output_type": "execute_result"
    }
   ],
   "source": [
    "# pick 5 random words from vocab to inspect it\n",
    "import random\n",
    "\n",
    "random.sample(vocab, 5)"
   ]
  },
  {
   "cell_type": "code",
   "execution_count": 39,
   "metadata": {},
   "outputs": [
    {
     "name": "stdout",
     "output_type": "stream",
     "text": [
      "no. of words in vocabulary: 74893\n"
     ]
    }
   ],
   "source": [
    "print('no. of words in vocabulary: {}'.format(len(vocab)))"
   ]
  },
  {
   "cell_type": "markdown",
   "metadata": {},
   "source": [
    "### Create a lookup table based on the vocabulary"
   ]
  },
  {
   "cell_type": "code",
   "execution_count": 40,
   "metadata": {},
   "outputs": [],
   "source": [
    "indices = tf.range(len(vocab), dtype = tf.int64)\n",
    "lookup_initializer = tf.lookup.KeyValueTensorInitializer( list(vocab), indices) \n",
    "num_oov_buckets = 50 \n",
    "lookup_table = tf.lookup.StaticVocabularyTable( initializer = lookup_initializer, \n",
    "                                               num_oov_buckets = num_oov_buckets)"
   ]
  },
  {
   "cell_type": "code",
   "execution_count": 41,
   "metadata": {},
   "outputs": [],
   "source": [
    "# function to map a text to integers using the above lookup table\n",
    "def text_to_integers(X):\n",
    "    X = tf.strings.split(X)\n",
    "    int_ls = lookup_table.lookup(X)\n",
    "    return int_ls"
   ]
  },
  {
   "cell_type": "code",
   "execution_count": 42,
   "metadata": {
    "scrolled": true
   },
   "outputs": [
    {
     "name": "stdout",
     "output_type": "stream",
     "text": [
      "tf.Tensor(\n",
      "[48439 30765 17638 41395 29831  9731 14234 12919 15503 21034 74794 42136\n",
      " 17174 61205 55113  7643 12767 70810 52463 13481 29402 29831  9731 55955\n",
      " 62738 10749 65857 60297 47311 52497 48439 18168 65369 20408 22965 10749\n",
      " 48439 29469 61054  1918 21034 63179 29350 48361 47311 61054  1918  3753\n",
      " 18842 27741 44434  1979 51064 21034 59712 11991 11652 54379 38416 30765\n",
      " 64534 37251 19554 37041 38334 48207 25954 32409 60441    52  7845 21472\n",
      " 62312 38233  7839 29350 23499 20408    52 29831  9731 54432 14234 67211\n",
      " 13979 20408    52 16182 29350 21034 66763  2171 26295  6102 56828 48439\n",
      " 12868  3537 21034 53374 54322 48439 42719 30010 67211 13979 20408 50287\n",
      " 30805 48439 54432 25895 38108  3896 48439  8528 16643 68515 44947 41395\n",
      "  1918 29831 29831 14903 38416 41395  3896 19169 10749 29831 42213 30010\n",
      " 46024 60297 10128 62493 21034 34120 44748 34096 48439 16643 23472  6790\n",
      " 30805 67059 48439 67071  3896 11817 25954 73286 26308 47311 13051 10749\n",
      " 47311 57551 50118 29831 73286 59017 69774 57724 26308  7845 48439 67071\n",
      "  3896 21034 10886 73286 30805  6817 34638 48439 43798 21034 41244 66530\n",
      " 48439 70515 21034 32332 72851 73531 48439 63563  3896 55011  1918 21034\n",
      " 38781 47311 21034 25954  6790 12735 69774 70753 15503 21472 71920  1918\n",
      " 12767 34096 47311 48374 56275  6194 63550  6102 68534 12767 34096 38647\n",
      " 11817 21472 30010 37883  3332 56275  6194 16643 49686 38781 29350 21034\n",
      "    52  1918 21034 20408 13979  6194 50332  7121 37938 13258 48578 54686\n",
      " 65315 16643 74531 41270 11817 25954], shape=(246,), dtype=int64)\n"
     ]
    }
   ],
   "source": [
    "for item in pos_fl0:\n",
    "    item = punc_filter_and_to_lower4(item)\n",
    "    item = text_to_integers(item)\n",
    "    print(item)"
   ]
  },
  {
   "cell_type": "markdown",
   "metadata": {},
   "source": [
    "### Create an Embedding Matrix"
   ]
  },
  {
   "cell_type": "code",
   "execution_count": 43,
   "metadata": {},
   "outputs": [
    {
     "data": {
      "text/plain": [
       "<tf.Variable 'Variable:0' shape=(74943, 100) dtype=float32, numpy=\n",
       "array([[0.27906322, 0.8319788 , 0.8671597 , ..., 0.59542024, 0.1292175 ,\n",
       "        0.8779899 ],\n",
       "       [0.27754378, 0.16927779, 0.9528674 , ..., 0.8340106 , 0.9525088 ,\n",
       "        0.61001444],\n",
       "       [0.1377747 , 0.51589966, 0.92480576, ..., 0.907174  , 0.9754183 ,\n",
       "        0.71382284],\n",
       "       ...,\n",
       "       [0.31066298, 0.3120792 , 0.36700225, ..., 0.29035735, 0.48106587,\n",
       "        0.5356971 ],\n",
       "       [0.78949046, 0.0302062 , 0.29179502, ..., 0.9442512 , 0.07022405,\n",
       "        0.5614449 ],\n",
       "       [0.89836776, 0.06539917, 0.0664115 , ..., 0.640229  , 0.53680515,\n",
       "        0.22554016]], dtype=float32)>"
      ]
     },
     "execution_count": 43,
     "metadata": {},
     "output_type": "execute_result"
    }
   ],
   "source": [
    "embedding_dim = 100\n",
    "initial_embeddings = tf.random.uniform([len(vocab) + num_oov_buckets, embedding_dim] ) \n",
    "embedding_matrix = tf.Variable(initial_embeddings)\n",
    "embedding_matrix"
   ]
  },
  {
   "cell_type": "code",
   "execution_count": 44,
   "metadata": {},
   "outputs": [],
   "source": [
    "# function to create an embedding-vector from a list of word indices\n",
    "def indices_to_embeddings(idxs):\n",
    "    embeddings = tf.nn.embedding_lookup(embedding_matrix, idxs)\n",
    "    sqrt_num_words = tf.math.sqrt(tf.cast(tf.size(idxs), tf.float32)) # size is of type int32 but \n",
    "                                                                      # tf.math.sqrt has to have one of \n",
    "                                                                      # bfloat16, half, float32, \n",
    "                                                                      # float64, complex64, \n",
    "                                                                      # complex128.\n",
    "    mean_embedding = tf.math.reduce_mean(embeddings, axis = 0)\n",
    "    sentence_embedding = tf.multiply(sqrt_num_words, mean_embedding)\n",
    "    return sentence_embedding"
   ]
  },
  {
   "cell_type": "code",
   "execution_count": 45,
   "metadata": {},
   "outputs": [],
   "source": [
    "for item in pos_fl0:\n",
    "    item = punc_filter_and_to_lower4(item)\n",
    "    item = text_to_integers(item)\n",
    "    item = indices_to_embeddings(item)"
   ]
  },
  {
   "cell_type": "code",
   "execution_count": 46,
   "metadata": {},
   "outputs": [
    {
     "data": {
      "text/plain": [
       "<tf.Tensor: shape=(100,), dtype=float32, numpy=\n",
       "array([8.946577 , 7.7086296, 7.889461 , 7.6378326, 7.7103095, 8.75428  ,\n",
       "       7.635992 , 8.230398 , 7.0222974, 8.376617 , 7.9879985, 7.1177044,\n",
       "       7.845598 , 8.805258 , 8.428925 , 7.9334426, 8.093625 , 7.972808 ,\n",
       "       7.257497 , 8.336182 , 7.623115 , 7.361554 , 8.276004 , 6.9057245,\n",
       "       8.051547 , 8.387872 , 8.48967  , 8.2096815, 8.696532 , 8.533066 ,\n",
       "       7.271341 , 7.4471626, 8.351785 , 7.6975226, 8.140875 , 7.986603 ,\n",
       "       7.381612 , 7.6213307, 8.292445 , 7.390688 , 8.303003 , 7.6313944,\n",
       "       6.9432006, 7.4013   , 7.9718246, 8.071688 , 7.034995 , 8.841431 ,\n",
       "       8.613527 , 7.964976 , 7.319157 , 6.8373456, 7.3675656, 8.248731 ,\n",
       "       7.495907 , 7.3829293, 8.225588 , 8.1930895, 7.656006 , 7.452039 ,\n",
       "       7.747517 , 6.536757 , 8.203257 , 8.861534 , 8.209468 , 8.0763645,\n",
       "       7.8543854, 7.6970987, 8.034244 , 8.323968 , 7.8163195, 8.073858 ,\n",
       "       6.992436 , 7.350293 , 7.9057307, 7.3783717, 7.1461086, 7.8354883,\n",
       "       8.436588 , 7.954034 , 8.933267 , 7.3408885, 8.129338 , 7.4369946,\n",
       "       7.3960094, 7.727654 , 7.994282 , 7.462081 , 8.660419 , 7.686134 ,\n",
       "       8.227843 , 7.204817 , 7.485556 , 7.622862 , 7.99144  , 7.3252335,\n",
       "       8.056408 , 7.143781 , 7.213383 , 7.6856003], dtype=float32)>"
      ]
     },
     "execution_count": 46,
     "metadata": {},
     "output_type": "execute_result"
    }
   ],
   "source": [
    "item"
   ]
  },
  {
   "cell_type": "markdown",
   "metadata": {},
   "source": [
    "### Create a Preprocessing layer"
   ]
  },
  {
   "cell_type": "markdown",
   "metadata": {},
   "source": [
    "Let us now define a preprocessing layer that accepts a sentence as an input, removes punctuations and line-brk tags form it, then converts it's words into indices and finally output an embedding vector corresponding to the sentence."
   ]
  },
  {
   "cell_type": "code",
   "execution_count": 115,
   "metadata": {},
   "outputs": [],
   "source": [
    "class Preprocessing_layer(keras.layers.Layer): \n",
    "    def __init__(self, vocab,  num_oov_buckets, embedding_len, **kwargs): \n",
    "        super().__init__(**kwargs)\n",
    "        self.vocab = list(vocab)\n",
    "        self.vocab_len  = tf.size(self.vocab, out_type = tf.int64) \n",
    "        self.num_oov_buckets = num_oov_buckets\n",
    "        self.embedding_len = embedding_len\n",
    "        self.indices = tf.range(self.vocab_len, dtype = tf.int64)\n",
    "        self.lookup_initializer = tf.lookup.KeyValueTensorInitializer(self.vocab, \n",
    "                                                                      self.indices)\n",
    "        self.lookup_table = tf.lookup.StaticVocabularyTable(initializer = self.lookup_initializer, \n",
    "                                                            num_oov_buckets = self.num_oov_buckets)\n",
    "         \n",
    "    # build the embedding matrix \n",
    "    def build(self, batch_input_shape):\n",
    "        self.embedding_mat = self.add_weight(name = 'embedding matrix', \n",
    "                                             shape = [self.vocab_len + self.num_oov_buckets, self.embedding_len],\n",
    "                                             initializer = tf.random_uniform_initializer)\n",
    "        \n",
    "        super().build(batch_input_shape)\n",
    "        \n",
    "    \n",
    "    # function to convert a sentence into a list of indices for its words\n",
    "    def text_to_integers(self, X):\n",
    "        X_words = tf.strings.split(X)\n",
    "        # X_words will be a ragged tensor\n",
    "        # on the otherhand, self.lookup_table.lookup() expects either a Sparse tensor or a dense tensor\n",
    "        # for example see the documentation: https://www.tensorflow.org/api_docs/python/tf/lookup/StaticVocabularyTable\n",
    "        # in order to use it ragged tensors, we have to use tf.ragged.map_flay_values()\n",
    "        # https://www.tensorflow.org/api_docs/python/tf/ragged/map_flat_values\n",
    "        X_int = tf.ragged.map_flat_values(self.lookup_table.lookup, X_words)\n",
    "        return X_int\n",
    "    \n",
    "    # function to convert a list of indices into an embedding vector\n",
    "    def integers_to_embeddings(self, X):\n",
    "        sqrt_num_words = tf.convert_to_tensor(\n",
    "            [tf.cast(tf.size(sentence), tf.float32) for sentence in X] )\n",
    "        print('sqrt_n:{}'.format(sqrt_num_words))\n",
    "        X_ems = tf.nn.embedding_lookup(self.embedding_mat, X)\n",
    "        X_vec = tf.math.reduce_mean(X_ems, axis = 1) # note that X_ems is a ragged tensor whose \n",
    "                                                     # 0-th dim. corresponds to the batch dim. \n",
    "                                                     # therefore axis = 1 and NOT 0 when taking mean\n",
    "                                                     \n",
    "        \n",
    "        # tf.multiply(sqrt_num_words, X_vec)\n",
    "        \n",
    "        return X_vec\n",
    "        \n",
    "    # define the call method\n",
    "    def call(self, X):\n",
    "        \n",
    "        # recall X contains strings with all the punctuations etc removed\n",
    "        # Imp: The shape of X is (batch_size, ...) i.e. the 0-th axis of X corresponds to batch dim. \n",
    "        # We first convert all its words into their indices\n",
    "        X_int = self.text_to_integers(X)\n",
    "        # now convert this a mean embedding vector\n",
    "        X_vec = self.integers_to_embeddings(X_int)\n",
    "        \n",
    "        return X_vec\n",
    "    \n",
    "    \n",
    "    # compute output shape\n",
    "    def compute_output_shape(self, batch_input_shape):\n",
    "        return tf.TensorShape(batch_input_shape.as_list()[:-1] + [self.embedding_len])\n",
    "    \n",
    "    \n",
    "    # add the layers hyperparameters to the configuration file\n",
    "    def get_config(self):\n",
    "        base_config = super().get_config()\n",
    "        return {**base_config, 'embedding_len': self.embedding_len, \n",
    "                'num_oov_buckets': self.num_oov_buckets}\n",
    "    "
   ]
  },
  {
   "cell_type": "markdown",
   "metadata": {},
   "source": [
    "### Labeling the data"
   ]
  },
  {
   "cell_type": "markdown",
   "metadata": {},
   "source": [
    "Note that the positive and negative reviews in each dataset have been stored in seperate folders and as such they have no explicit labels. We will therefore have to create our own labels as was done in [this](https://www.tensorflow.org/tutorials/load_data/text) official tensorflow tutorial. "
   ]
  },
  {
   "cell_type": "code",
   "execution_count": 48,
   "metadata": {},
   "outputs": [],
   "source": [
    "# function to return apply a label\n",
    "def labeler(review, label):\n",
    "    return review, tf.cast(label, tf.int64)"
   ]
  },
  {
   "cell_type": "code",
   "execution_count": 49,
   "metadata": {},
   "outputs": [],
   "source": [
    "train_pos_paths = tf.data.Dataset.list_files(train_pos_path)\n",
    "train_pos_reviews = tf.data.TextLineDataset(train_pos_paths).map(lambda x : labeler(x, 1))"
   ]
  },
  {
   "cell_type": "code",
   "execution_count": 50,
   "metadata": {},
   "outputs": [
    {
     "name": "stdout",
     "output_type": "stream",
     "text": [
      "(<tf.Tensor: shape=(), dtype=string, numpy=b\"I think the comments regarding the show being cheesy are a bit too exaggerated. When a person comes to watch a TV show, what does he look out for? It is to enjoy that he watches a show, unless he/she is a critic or a person who analyzes story. But most of us are not so and watch the shows to relax and enjoy. FULL HOUSE is an ideal show to watch after having a heavy day in the office/school. It makes you laugh and it is not just humor.<br /><br />Yes, the Tanner family is a perfect family, a perfectly hypothetical family. If any such family existed in real world, it would be a role model for us to follow. But this is a TV show, and not a real family, and there is nothing wrong in depicting a hypothetical family on television. The very fact that the show could run so long shows us that people enjoyed watching it, whatever be the comments later on.<br /><br />Another good point about the show is that any person of any age would not only enjoy watching it, but would take back a message however childish that message be. Those Jesse's talks with Michelle are extremely touching, if one doesn't think of it as childish.<br /><br />Overall I would say after watching every show of Full House, there is a contentment in your heart that is rarely present after many other shows.\">, <tf.Tensor: shape=(), dtype=int64, numpy=1>)\n",
      " \n",
      "(<tf.Tensor: shape=(), dtype=string, numpy=b\"A trio of buddies, sergeants all in the British Army, carouse & brawl their way across Imperial India. Intensely loyal to each other, they meet their greatest & most deadly challenge when they encounter the resurgence of a hideous cult & its demented, implacable guru. Now they must rely on the lowliest servant of the regiment, the water carrier GUNGA DIN, to save scores of the Queen's soldiers from certain massacre.<br /><br />Based more on The Three Musketeers than Kipling's classic poem, this is a wonderful adventure epic - a worthy entry in Hollywood's Golden Year of 1939. Filled with suspense & humor, while keeping the romantic interludes to the barest minimum, it grips the interest of the viewer and holds it right up to the (sentimental) conclusion.<br /><br />It is practically fruitless to discuss the performance nuances of the three stars, Cary Grant, Victor McLaglen & Douglas Fairbanks Jr., as they are really all thirds of a single organism - inseparable and, to all intents & purposes, indistinguishable. However, this diminishes nothing of the great fun in simply watching them have a glorious time.<br /><br />(It's interesting to note, parenthetically, that McLaglen boasted of a distinguished World War One military career; Fairbanks would have a sterling record in World War Two - mostly in clandestine affairs & earning himself no fewer than 4 honorary knighthoods after the conflict; while Grant reportedly worked undercover for British Intelligence, keeping an eye on Hollywood Nazi sympathizers.)<br /><br />The real acting laurels here should go to Sam Jaffe, heartbreaking in the title role. He infuses the humble man with radiant dignity & enormous courage, making the last line of Kipling's poem ring true. He is unforgettable.<br /><br />Montague Love is properly stalwart as the regimental major, whilst Eduardo Ciannelli is Evil Incarnate as the Thuggee guru. The rest of the cast, Joan Fontaine, Robert Coote, Lumsden Hare, are effective but have little to do. Movie mavens will recognize Cecil Kellaway in the tiny role of Miss Fontaine's father.<br /><br />The film picks its villains well. The demonic Thuggee cult, worshipers of the hideous, blood-soaked Kali, Hindu goddess of destruction, was the bane of Indian life for 6 centuries, ritualistically strangling up to 30,000 victims a year. In 1840 the British military, in cooperation with a number of princely states, succeeded in ultimately suppressing the religion. Henceforth it would remain the stuff of novels & nightmares.\">, <tf.Tensor: shape=(), dtype=int64, numpy=1>)\n",
      " \n"
     ]
    }
   ],
   "source": [
    "for item in train_pos_reviews.take(2):\n",
    "    print(item)\n",
    "    print(' ')"
   ]
  },
  {
   "cell_type": "code",
   "execution_count": 51,
   "metadata": {},
   "outputs": [],
   "source": [
    "train_neg_paths = tf.data.Dataset.list_files(train_neg_path)\n",
    "train_neg_reviews = tf.data.TextLineDataset(train_neg_paths).map(lambda x: labeler(x, 0))"
   ]
  },
  {
   "cell_type": "code",
   "execution_count": 52,
   "metadata": {},
   "outputs": [
    {
     "name": "stdout",
     "output_type": "stream",
     "text": [
      "(<tf.Tensor: shape=(), dtype=string, numpy=b\"Just like last years event WWE New Years Revolution 2006 was headlined by an Elimination Chamber match. The difference between last years and this years match however was the entertainment value. In reality only three people stood a chance of walking out of the Pepsi Arena in Albany, New York with the WWE Championship. Those men were current champion John Cena, Kurt Angle and Shawn Michaels. There was no way Vinnie Mac would put the belt on any of the rookies; Carlito or Chris Masters. And Kane? Kane last held the WWE Championship in June 1998, and that was only for one night. It was obvious he wasn't going to be the one either. Last years match was a thrilling affair with six of the best WWE had to offer. 2006 was a predictable and disappointing affair but still the match of the night by far.<br /><br />The only surprise of the evening came after the bell had run on the main event. Out strolled Vince McMahon himself and demanded they lift the chamber. It was then announced that Edge was cashing in his money in the bank championship match right then and there. With no time to prepare and just off the back of winning the Elimination Chamber match John Cena did not stand a chance and dropped the title after a spear to one of the most entertaining heels in WWE. This was the only entertaining piece of action that happened all night.<br /><br />The undercard, like last year, was truly atrocious. Triple H and The Big Show put on a snore fest that had me struggling to stay away. HHH picked up the win but that was never in any real doubt was it? Any pay-per-view that has both Jerry Lawler and Viscera wrestling on the same card will never have any chance of becoming a success really does it. The King pinned Helms (who books this stuff?) and Big Vis tasted defeat against the wasted Shelton Benjamin with a little help from his Mama.<br /><br />The women of the WWE also had a busy night. There was the usual Diva nonsense with a Bra and Panties Gauntlet match which was won by Ashley and the Woman's Championship was also on the line. In a match, I thought would have been left to brew till WrestleMania 22 Mickie James challenged Trish Stratus in a good match. Trish won the contest but it was evident that this is going to continue for the foreseeable future.<br /><br />The opening contest of the night pitted soon to be WWE Champion Edge against Intercontinental Champion, Ric Flair. This could have been better but it was a battered and bloody Flair that retained after a disqualification finish. Edge obviously had bigger fish to fry.<br /><br />So New Years Revolution kicked off the 2006 pay-per-view calendar in disastrous fashion. The only good thing from that is knowing that for the WWE the only way is up. They don't get much worse than this.\">, <tf.Tensor: shape=(), dtype=int64, numpy=0>)\n",
      " \n",
      "(<tf.Tensor: shape=(), dtype=string, numpy=b\"Yes, Marie Dresler drinks prune juice that she thinks is poison and she exits running.<br /><br />Dresler is good. Never my cup of tea but she is a solid performer who surely holds the screen.<br /><br />I watched this for Polly Moran, whom I've seen elsewhere. Here, Moran is OK -- just OK -- as Dressler's shrewish friend/foe. Too bad she has sunk into nearly total oblivion.<br /><br />The plot is good hearted. Bad guys try to rob the townspeople. Dressler triumphs and all ends well.<br /><br />I do wonder about the central plot mechanism: bonds. This came out during the Depression so maybe everyone was familiar with bonds and what they can do if used well and if used wrongly. I, however, not of that era, am vaguely familiar with them. They're like stocks only different, right? It seems odd to build a story about The Little Man around a somewhat sophisticated monetary entity.\">, <tf.Tensor: shape=(), dtype=int64, numpy=0>)\n",
      " \n"
     ]
    }
   ],
   "source": [
    "for item in train_neg_reviews.take(2):\n",
    "    print(item)\n",
    "    print(' ')"
   ]
  },
  {
   "cell_type": "markdown",
   "metadata": {},
   "source": [
    "### Creating training batches"
   ]
  },
  {
   "cell_type": "code",
   "execution_count": 53,
   "metadata": {},
   "outputs": [],
   "source": [
    "shuffle_buffer_size = 20000\n",
    "train_dataset = train_pos_reviews.concatenate(train_neg_reviews).shuffle(buffer_size = shuffle_buffer_size)"
   ]
  },
  {
   "cell_type": "code",
   "execution_count": 54,
   "metadata": {},
   "outputs": [
    {
     "name": "stdout",
     "output_type": "stream",
     "text": [
      "25000\n"
     ]
    }
   ],
   "source": [
    "count = 0\n",
    "for item in train_dataset:\n",
    "    count+=1\n",
    "print(count)    "
   ]
  },
  {
   "cell_type": "markdown",
   "metadata": {},
   "source": [
    "We now wish to apply punc_filter_and_to_lower4() to the reviews in our training dataset. For this we will use the [map](https://www.tensorflow.org/api_docs/python/tf/data/Dataset#map) method of tf.data.Datasets. At this point it is important to note that (as mentioned in the documentation for [map](https://www.tensorflow.org/api_docs/python/tf/data/Dataset#map)):\n",
    "\n",
    "    Note that irrespective of the context in which map_func is defined (eager vs. graph), tf.data traces the function and executes it as a graph. To use Python code inside of the function you have two options:\n",
    "\n",
    "     1) Rely on AutoGraph to convert Python code into an equivalent graph computation. The downside of this approach is that AutoGraph can convert some but not all Python code.\n",
    "\n",
    "     2) Use tf.py_function, which allows you to write arbitrary Python code but will generally result in worse performance than 1)"
   ]
  },
  {
   "cell_type": "markdown",
   "metadata": {},
   "source": [
    "This point is of concern to us because the [tokenizer](https://www.tensorflow.org/datasets/api_docs/python/tfds/features/text/Tokenizer) we used in punc_filter_and_to_lower4() only accepts string input and NOT tensors. This string was extracted from the tensor using its .numpy() method which is only operable in eager mode. Thus when we pass punc_filter_and_to_lower4() to map(), it throws an error, complaining:\n",
    "\n",
    "     'Tensor' object has no attribute 'numpy'\n",
    "\n",
    "\n",
    "Thus we have to wrap punc_filter_and_to_lower4() with tf.py_function before passing it to map\n"
   ]
  },
  {
   "cell_type": "code",
   "execution_count": 55,
   "metadata": {},
   "outputs": [],
   "source": [
    "# function to wrap punc_filter_and_to_lower4 with tf.py_function\n",
    "# we will also use tf.ensure_shape(), or else tensorflow is \n",
    "# unable to statically determine it, leading to error being thrown during training\n",
    "def string_transform(X):\n",
    "    x = tf.py_function(punc_filter_and_to_lower4, [X], Tout = tf.string)\n",
    "    x = tf.ensure_shape(x, ())\n",
    "    \n",
    "    return x\n",
    "\n",
    "batch_size = 50\n",
    "prefetch = 2\n",
    "train_batch = train_dataset.map(lambda X, y: \n",
    "                                    (string_transform(X), y) ).batch(batch_size).prefetch(prefetch)"
   ]
  },
  {
   "cell_type": "markdown",
   "metadata": {},
   "source": [
    "Note that we could have alternatively, preprocessed the data using punc_filter_and_to_lower2() which is based on tensorflow functions and then used it. The price we would have to pay is to rebuild the vocabulary accordingly. "
   ]
  },
  {
   "cell_type": "code",
   "execution_count": 56,
   "metadata": {},
   "outputs": [
    {
     "name": "stdout",
     "output_type": "stream",
     "text": [
      "shape of train-batch: (50,)\n",
      "tf.Tensor(b'the true story of the friendship that shook south africa and awakened the world richard attenborough who directed a bridge too far and gandhi wanted to bring the story of steve biko to life and the journey and trouble that journalist donald woods went through in order to get his story told the films uses wood s two books for it s information and basis biko and asking for trouble the film takes place in the late 1970 s in south africa south africa is in the grip of the terrible apartheid which keeps the blacks separated from the whites and classifies the whites as the superior race the blacks are forced to live in shantytowns on the outskirts of the cities and towns and they come under frequent harassment by the police and the army we are shown a dawn raid on a shantytown as bulldozers and armed police force their way through the camp beating and even killing the inhabitants then we are introduced to donald woods kevin kline who is the editor of a popular newspaper after publishing a negative story about black activist steve biko denzel washington woods goes to meet with him the two are wary of each other at first but they soon become good friends and biko shows the horrors of the apartheid system from a black persons point of view to woods this encourages woods to speak out against what s happening around him and makes him desperate to bring steve biko s story out of the clutches of the white man s south africa and to the world soon steve biko is arrested and is killed in prison now woods and his family are daring to escape from south africa to england where woods can publish his book about steve biko and the apartheid when i first heard of cry freedom i was under the impression that it was a movie completely dedicated to the life of steve biko i had never actually heard of steve biko before i seen this film as the events in this film were really before my time but it s more about the story of donald woods and his journey across the border into lesotho as he tried to elude the south african officials woods was put on a five year type house arrest after steve biko was killed so in order to publish his manuscript on steve biko he had to escape because the manuscript would be considered treason in south africa and that could have resulted in woods meeting a fate similar to that of biko s the real donald woods and his wife acted as consultants to this film denzel washington is only in the film for the first hour and i was disappointed with that as i was expecting to see him for the entire movie but he was amazing as steve biko and captured his personality from what i ve read really well and his accent sounded perfect his performance earned him an oscar nomination for best supporting actor kevin kline delivers a excellent and thought evoking performance as donald woods and penelope wilton is excellent as his wife wendy filming took place in zimbabwe as needless to say problems arose when they tried to film it in south africa while in south africa the south african gestapo followed the film crew everywhere so they got the bad vibes and they pulled out and went to neighbouring zimbabwe instead despite everything and the fact that the apartheid didn t end til seven years later cry freedom wasn t banned in south africa but cinemas showing the movie received bomb threats richard attenborough brings the horrors of the apartheid to the screen with extreme force and determination he doesn t hold back at the end of the movie when showing what was supposed to be a peaceful protest by students in a shantytown turns into a massacre when police open fire on them the film ends with the names of all the anti apartheid movers who died in prison and the explanations for their deaths many had no explanation quite a few were epilepsy which is hard to believe and many more either fell from the top of the stairs or were suicide from hanging no one will ever know what really happened to them but i think it s fair to say that none of these men died at their own hands but at the hands of others or to be more precise at the hands of the police cry freedom is a must see movie for it s portrayal and story of steve biko it s also a searing and devastating portrayal of a beautiful land divided and in the hellish grips of racial segregation and violence', shape=(), dtype=string)\n"
     ]
    }
   ],
   "source": [
    "ite = next(iter(train_batch))\n",
    "print('shape of train-batch: {}'.format(ite[0].shape))\n",
    "print(ite[0][0])"
   ]
  },
  {
   "cell_type": "code",
   "execution_count": 57,
   "metadata": {},
   "outputs": [
    {
     "data": {
      "text/plain": [
       "<tf.Tensor: shape=(50,), dtype=int64, numpy=\n",
       "array([1, 1, 1, 1, 0, 1, 0, 0, 1, 1, 1, 1, 1, 0, 1, 0, 1, 0, 1, 1, 1, 1,\n",
       "       0, 1, 0, 1, 1, 0, 1, 1, 1, 1, 1, 1, 1, 1, 0, 1, 1, 1, 1, 1, 0, 0,\n",
       "       1, 1, 0, 1, 1, 1])>"
      ]
     },
     "execution_count": 57,
     "metadata": {},
     "output_type": "execute_result"
    }
   ],
   "source": [
    "ite[1]"
   ]
  },
  {
   "cell_type": "markdown",
   "metadata": {},
   "source": [
    "### Create Validation dataset "
   ]
  },
  {
   "cell_type": "markdown",
   "metadata": {},
   "source": [
    "As instructed in the excercise, we will create a validation dataset by splitting the test set into half"
   ]
  },
  {
   "cell_type": "code",
   "execution_count": 58,
   "metadata": {},
   "outputs": [
    {
     "name": "stdout",
     "output_type": "stream",
     "text": [
      "/home/prarit/MachineLearningProjects/Word-Embeddings/aclImdb/test\n",
      "path to positive test reviews: \n",
      "/home/prarit/MachineLearningProjects/Word-Embeddings/aclImdb/test/pos/*.txt\n",
      "path to negative test reviews: \n",
      "/home/prarit/MachineLearningProjects/Word-Embeddings/aclImdb/test/neg/*.txt\n"
     ]
    }
   ],
   "source": [
    "test_path = os.path.join(path, 'test')\n",
    "print(test_path)\n",
    "test_pos_path = os.path.join(test_path, 'pos', '*.txt')\n",
    "print('path to positive test reviews: \\n{}'.format(test_pos_path))\n",
    "test_neg_path = os.path.join(test_path, 'neg', '*.txt')\n",
    "print('path to negative test reviews: \\n{}'.format(test_neg_path))"
   ]
  },
  {
   "cell_type": "code",
   "execution_count": 59,
   "metadata": {},
   "outputs": [
    {
     "data": {
      "text/plain": [
       "12500"
      ]
     },
     "execution_count": 59,
     "metadata": {},
     "output_type": "execute_result"
    }
   ],
   "source": [
    "test_pos_files = glob.glob(test_pos_path)\n",
    "len(test_pos_files)"
   ]
  },
  {
   "cell_type": "code",
   "execution_count": 60,
   "metadata": {},
   "outputs": [
    {
     "data": {
      "text/plain": [
       "6250"
      ]
     },
     "execution_count": 60,
     "metadata": {},
     "output_type": "execute_result"
    }
   ],
   "source": [
    "valid_size = 12500\n",
    "valid_pos_files = random.sample(test_pos_files, int(valid_size/2))\n",
    "len(valid_pos_files)"
   ]
  },
  {
   "cell_type": "code",
   "execution_count": 61,
   "metadata": {},
   "outputs": [
    {
     "data": {
      "text/plain": [
       "6250"
      ]
     },
     "execution_count": 61,
     "metadata": {},
     "output_type": "execute_result"
    }
   ],
   "source": [
    "# We can remove the valid_pos_files from the set of test_pos_files through the\n",
    "# simple trick explained in the following post:\n",
    "# https://stackoverflow.com/questions/6486450/python-compute-list-difference/6486467\n",
    "test_pos_files = list(set(test_pos_files) - set(valid_pos_files))\n",
    "len(test_pos_files)"
   ]
  },
  {
   "cell_type": "code",
   "execution_count": 62,
   "metadata": {},
   "outputs": [
    {
     "name": "stdout",
     "output_type": "stream",
     "text": [
      "initial test_neg_files len:12500\n",
      "valid_neg_files len: 6250\n",
      "test_neg_files len: 6250\n"
     ]
    }
   ],
   "source": [
    "test_neg_files = glob.glob(test_neg_path)\n",
    "print('initial test_neg_files len:{}'.format(len(test_neg_files)))\n",
    "valid_neg_files = random.sample(test_neg_files, int(valid_size/2))\n",
    "print('valid_neg_files len: {}'.format(len(valid_neg_files)))\n",
    "test_neg_files = list(set(test_neg_files) - set(valid_neg_files))\n",
    "print('test_neg_files len: {}'.format(len(test_neg_files)))"
   ]
  },
  {
   "cell_type": "code",
   "execution_count": 63,
   "metadata": {},
   "outputs": [],
   "source": [
    "valid_pos_reviews = tf.data.TextLineDataset(valid_pos_files).map(lambda x: labeler(x, 1))\n",
    "valid_neg_reviews = tf.data.TextLineDataset(valid_neg_files).map(lambda x: labeler(x, 0))"
   ]
  },
  {
   "cell_type": "code",
   "execution_count": 64,
   "metadata": {},
   "outputs": [
    {
     "name": "stdout",
     "output_type": "stream",
     "text": [
      "(<tf.Tensor: shape=(), dtype=string, numpy=b'A beautifully photographed and paced short film. It evocatively captures the feeling of this family and much of the country during the period just prior to and after Pearl Harbor.<br /><br />I appreciated the visual look of the film -- naturalistic and simultaneously poetic. Great work by a great D.P., David Boyd.<br /><br />Though a family film, the story never becomes maudlin or saccharin. We understand and believe the motivation that propels the young boy on his odyssey. I understand the love of the younger brother for his older brother and do not question why he sets out to do what he does. I understand that he is driven by a deep desire to be with his brother in this time of crisis. The kid is tough, and the performance by Jonathan Furr is superb as is the veteran performance by Ron Perlman.'>, <tf.Tensor: shape=(), dtype=int64, numpy=1>)\n",
      " \n",
      "(<tf.Tensor: shape=(), dtype=string, numpy=b\"Symbologist Robert Langdon (Hanks) is called to Rome to help decipher the mystery behind the Illuminati before a new science experiment blows up the city.<br /><br />The Da Vinci Code broke records in 2006 but for the vast majority of Dan Brown followers it did not do his award winning book justice and though running at a good 2 and a half hours, seemed to bore many.<br /><br />Having read the book, I was perhaps one of the few who enjoyed Tom Hanks and Audrey Tautou attempt to solve the mystery of the murder in the Louvre but for Angels and Demons the scales were raised once more as lead star and director return.<br /><br />Having asked around, most people seem to prefer Angels and Demons to The Da Vinci code for an entertaining read and it seems as critiques and fans, whilst still not fully justified, prefer this latest adaptation to the 2006 release.<br /><br />This Howard picture certainly has a more clinical energy and exercise to it as unlike Da Vinci, Tom Hanks' Robert Langdon has only one night to solve the mysterious activities of the forgotten Illuminati in the Vatican and because of the time limitations, the action and desperation up the ante and deliver an excitement that certainly beats The Da Vinci code but also generates plenty of twists and stunning murder sequences.<br /><br />The interesting factor of this 2009 release is the constant elements being justified for the murders. Earth, wind, water and fire are all included in drastic and powerful sequences to pronounce a feeling of overall power to the situation.<br /><br />This really does justify the tag of thriller with a constant tension and sharp drama with the issues and beliefs once more given a full working over.<br /><br />Just like 3 years ago, there are many debates and discoveries of symbols once believed to be lost forever and Langdon is again the key character to show everyone the light in and amongst the controversy of other pressing circumstances.<br /><br />It is fair to say Dan Brown is a complex writer; he certainly likes to cram issues and dramas in amongst his action and thrilling sequences. As well as trying to discover the Illuminati, there is also the scenario of the election of a new pope, the dealings with a new scientific experiment and the power of Religion is again present. All interesting to discover and listen to, if occasionally the debates and dialogue tend to send your mind drifting but as there is so much in the novel, this was always likely.<br /><br />Ron Howard, who kept a frankly ordinary type of direction rolling in Da Vinci, returns in perhaps the worst way possible. His jerky ever moving camera styling does nothing to keep the pressure up, and we can never fully accept what is happening on screen thanks to this frankly awfully portrayed style. He is certainly no Paul Greengrass and this is by no means Bourne.<br /><br />Slick and stylized this is faster and more interesting than Da Vinci\">, <tf.Tensor: shape=(), dtype=int64, numpy=1>)\n",
      " \n"
     ]
    }
   ],
   "source": [
    "for item in valid_pos_reviews.take(2):\n",
    "    print(item)\n",
    "    print(' ')"
   ]
  },
  {
   "cell_type": "code",
   "execution_count": 65,
   "metadata": {},
   "outputs": [
    {
     "name": "stdout",
     "output_type": "stream",
     "text": [
      "(<tf.Tensor: shape=(), dtype=string, numpy=b\"When I first saw this I thought bits of it were fairly scary. But the horror is a little undermined by the fact that the dozy teenagers are so irritating that you don't really care what happens to them. There are some genuinely good moments such as Angela's speech about demons, and the briefly-seen demon itself is effective. But this really doesn't stand up to repeated viewing or close analysis. It's all pretty tacky and cheap-looking and often downright silly, pornography and unfunny wisecracks all too often replacing horror. The music is excellent, however, and the epilogue is certainly amusing, but this film doesnt have much to recommend it, just comes across as another Jason-type stalk-and-slash fare.\">, <tf.Tensor: shape=(), dtype=int64, numpy=0>)\n",
      " \n",
      "(<tf.Tensor: shape=(), dtype=string, numpy=b\"Well well, at last a view of this underrated flick. But you can't find a good copy of it, terrible copy full with green drops, the editing isn't syncronized, the sound do has sometimes that terrible hiss and sometimes you even can hear the camera recording. Overall it's too dark, a waist of time you should say but it isn't. It's a bit slow, the first half part of the movie it's all talking and making love to each other. It is even still weird that the girls in movies from the 60's never wear any bra's. When they enter the sleeping room it's full glory. Anyway, banned in the UK since 84 and still on the video nasties list. The reason is simple, it's gory for their time being. It really has some nasty dismemberement's and it's creepy in some way due the fact that it is filmed handycam way. So every shot the image is moving, things they do these days with the steadycam. The Ghastly Ones could have been better if the quality of the film was better but still better then other films of the time like Schoolgirls In Chains.\">, <tf.Tensor: shape=(), dtype=int64, numpy=0>)\n",
      " \n"
     ]
    }
   ],
   "source": [
    "for item in valid_neg_reviews.take(2):\n",
    "    print(item)\n",
    "    print(' ')"
   ]
  },
  {
   "cell_type": "code",
   "execution_count": 66,
   "metadata": {},
   "outputs": [],
   "source": [
    "test_pos_reviews = tf.data.TextLineDataset(test_pos_files).map(lambda x: labeler(x, 1))\n",
    "test_neg_reviews = tf.data.TextLineDataset(test_neg_files).map(lambda x: labeler(x, 0))"
   ]
  },
  {
   "cell_type": "code",
   "execution_count": 67,
   "metadata": {},
   "outputs": [
    {
     "name": "stdout",
     "output_type": "stream",
     "text": [
      "(<tf.Tensor: shape=(), dtype=string, numpy=b\"King of the Underworld features an early role for Humphery Bogart in one of his many gangster roles.<br /><br />He plays Joe Gurney who uses a female doctor to treat his men and pays her for it. He follows her when she goes to live with her Auntie after one of Gurney's men kills her doctor husband who also worked for him. Gurney kidnaps an author on his way to find the female doctor and gets him to write his life story and he then plans to kill him. He finally meets up with the doctor and after she gives Gurney and his men a substance that makes them temporarily blind, she and the author, who have now fallen in love manage to escape just as police arrive...<br /><br />Joing the excellent Bogie in the cast are Kay Francis, James Stephenson and John Eldredge.<br /><br />Watching King of the Underworld is a good way to spend just over an hour one evening.<br /><br />Rating: 3 stars out of 5.\">, <tf.Tensor: shape=(), dtype=int64, numpy=1>)\n",
      " \n",
      "(<tf.Tensor: shape=(), dtype=string, numpy=b'I just watched this short at the PlanetOut Movies. <br /><br />Starcrossed was a very sweet, sad, little movie about two brothers that are in love. There is some great, subtle acting from both the male leads. Often times movies with this subject matter seem to get too caught up in the controversy and shock value of the plot that they forget that there is an actual story. Luckily writer director James Burkhammer does not do this, and instead lets the story play out with honesty. The sequences of the two boys first falling in love are very sweet.'>, <tf.Tensor: shape=(), dtype=int64, numpy=1>)\n",
      " \n"
     ]
    }
   ],
   "source": [
    "for item in test_pos_reviews.take(2):\n",
    "    print(item)\n",
    "    print(' ')"
   ]
  },
  {
   "cell_type": "code",
   "execution_count": 68,
   "metadata": {},
   "outputs": [
    {
     "name": "stdout",
     "output_type": "stream",
     "text": [
      "(<tf.Tensor: shape=(), dtype=string, numpy=b'The price of a dream - and some dreams can be \"too\" expensive.<br /><br />Only having viewed the English-translated version, it is perhaps the reason for a low rating from this viewer.<br /><br />It made the overall film poorer than the story material hinted at...<br /><br />...and other comments seem to suggest the subtitled version would be better.<br /><br />But some plot elements remained unexplained, leaving an unfinished feel.<br /><br />It also leaves the thought \"is there a series to follow?\".<br /><br />A pity there was no more (at this stage at least, anyway).'>, <tf.Tensor: shape=(), dtype=int64, numpy=0>)\n",
      " \n",
      "(<tf.Tensor: shape=(), dtype=string, numpy=b\"The first review I saw of this on IMDB says that Vince Vaughn is a much better actor than Anthony Perkins was in this role. Makes me wonder if he saw the original. It's tough to review Psycho if you don't have the perspective of how revolutionary the movie was in 1960. You have a heroine who isn't very likable and is killed not far into the movie and a villain who is creepy, but makes you feel for him. Add to that some graphic violence and you have a blue print for some of the slasher films of the 80s and 90s.<br /><br />Where does this film go wrong? Let's start with casting. Anne Heche is fine as a Vivian Crane, but as Norman Bates, Vince Vaughn is all wrong. For one thing, he looks far too young. Secondly, he has no idea how to play the roll. His nervous laugh reminds me of Ron Howard trying to play a tough guy on Happy Days. Everything he does screams I DID IT! The original movie, even to those who know everything about it, still makes you feel uneasy about the influence of mother on Norman, and turns her into a real separate character. How about the shower scene. When I finally saw the 1960 movie on a big screen, I was surprised at its power to scare the heck out of me. Bernard Herrman's score becomes incredibly shrill and loud and goes further toward scaring you than Danny Elfman's synth interpretations during the scene. This shower scene merely serves to show us Anne Heche's naked body and some nice color blood. Which brings us to the choice to film in color. Didn't work.<br /><br />There is something about remaking classic films that hardly ever seems to work. Some may see this as a noble experiment, but honestly, if Gus Van Sant had nothing to add to this film, he should have left it alone\">, <tf.Tensor: shape=(), dtype=int64, numpy=0>)\n",
      " \n"
     ]
    }
   ],
   "source": [
    "for item in test_neg_reviews.take(2):\n",
    "    print(item)\n",
    "    print(' ')"
   ]
  },
  {
   "cell_type": "code",
   "execution_count": 69,
   "metadata": {},
   "outputs": [],
   "source": [
    "buffer_size = 10000\n",
    "valid_dataset = valid_pos_reviews.concatenate(valid_neg_reviews).shuffle(buffer_size = buffer_size)"
   ]
  },
  {
   "cell_type": "code",
   "execution_count": 70,
   "metadata": {},
   "outputs": [],
   "source": [
    "valid_batch = valid_dataset.map(lambda X,y: \n",
    "                                (string_transform(X), y) ).batch(batch_size).prefetch(prefetch)"
   ]
  },
  {
   "cell_type": "code",
   "execution_count": 71,
   "metadata": {},
   "outputs": [],
   "source": [
    "test_dataset = test_pos_reviews.concatenate(test_neg_reviews).shuffle(buffer_size)"
   ]
  },
  {
   "cell_type": "code",
   "execution_count": 72,
   "metadata": {},
   "outputs": [],
   "source": [
    "test_batch = test_dataset.map(lambda X,y: \n",
    "                                (string_transform(X), y) ).batch(batch_size).prefetch(prefetch)"
   ]
  },
  {
   "cell_type": "markdown",
   "metadata": {},
   "source": [
    "### A simple model to test the preprocessing layer defined earlier"
   ]
  },
  {
   "cell_type": "code",
   "execution_count": 85,
   "metadata": {},
   "outputs": [],
   "source": [
    "num_oov_buckets = 50\n",
    "embedding_len = 100"
   ]
  },
  {
   "cell_type": "code",
   "execution_count": 92,
   "metadata": {},
   "outputs": [],
   "source": [
    "item = next(iter(train_batch.take(1)))"
   ]
  },
  {
   "cell_type": "code",
   "execution_count": null,
   "metadata": {},
   "outputs": [],
   "source": [
    "model = keras.Sequential()\n",
    "model.add(keras.layers.Input(shape = [], dtype = tf.string))\n",
    "model.add(Preprocessing_layer(vocab = vocab, \n",
    "                              num_oov_buckets = num_oov_buckets, \n",
    "                              embedding_len = embedding_len) )"
   ]
  },
  {
   "cell_type": "code",
   "execution_count": 104,
   "metadata": {},
   "outputs": [],
   "source": [
    "pre = model(item[0])"
   ]
  },
  {
   "cell_type": "code",
   "execution_count": 105,
   "metadata": {},
   "outputs": [
    {
     "data": {
      "text/plain": [
       "TensorShape([50, 100])"
      ]
     },
     "execution_count": 105,
     "metadata": {},
     "output_type": "execute_result"
    }
   ],
   "source": [
    "pre.shape"
   ]
  },
  {
   "cell_type": "code",
   "execution_count": 78,
   "metadata": {},
   "outputs": [
    {
     "data": {
      "text/plain": [
       "<tf.Tensor: shape=(50,), dtype=string, numpy=\n",
       "array([b'this is one of those movies that you wish you hadn t seen before so you could see it again for the first time van dine s books still bring pleasure but are termed excessively flowery by many this movie is by far the best film adaptation of his works william powell is william powell say no more the plot is intricate the story moves all too quickly because you want it to last enjoy',\n",
       "       b'well done giving the perspective of the other side fraulein doktor captures both the cost and the futility of war excellent acting especially when german high command refuses in the name of chivalry to present medal kaiser ordered struck the scenes of carnage are probably too intense for effete us minds who d probably prefer some silly speeches and senseless abstractions like 14 points or the league of nations real americans might appreciate the story line and the action for all the action and intrigue fraulein doktor compares favo u rably to jacob s ladder',\n",
       "       b'semana santa is jaw droppingly bad it s so wrong in so many ways i don t where to begin so let s see mira sorvino whose judge husband has been shot while protecting her goes from madrid to seville for her cop job during the holy week semana santa see everybody begins to fall sleep told u it was bad in so many points even from the beginning a killer executes his victims like bulls in a bullfighting arena she teams up with male chauvinist pig olivier martinez and nice feodor atkine soon she discovers she ll be the next target of the killer who wears a red robe why oh but why why that s the questionthat has been in my head the whole movie q why did go to see that a because i love mira sorvino i even excuse her for that at first sight crap q why were we only 8 people in the theater this saturday on the first week end of release a ah ah ah spider man got relaesed the same day but also the fact that the movie has been blast with execrable reviews q why this movie has been made a money i guess but boy did mira need the money then why first of all there s always something wrong with european co productions here you got a french english german italian spanish danish production yi ha then it wants to play on the same playgroung as us thrillers slashers whodunit mysteries whatever even valentine though unnecessary and badly scripted and shot was much better in the suspense and the fun then to give some credit to the story the screenwriter wanted to add some political sight to the story wrong done in flash backs in a traffic like photography it s certainly the most interesting thing i n the movie could have stick to it it wouldn t have to sit through the whole movie better go straight to guillermo del tros s the devil s backbone el espinazo del diablo for some clever fun then the homophobia bullseye the first victims are s m drug addicted gay twins who got stabbed to death the annoying olivier martinez goes to a dating agency held by a badly shaved overweight transvestive with a blond platinum wig calls mira sorvino s character a big dyke all the time do we need this kind of stuff nah just needless offensive remarks just like ol times then the suspense yipee no apparent motive the first murders are plain illusion as they re a representation of a famous painting but no and the revelation of the killer a horrible fascist of course could have been done from the beginning as he appears at the end of the movie as i guess it was time for the director to say weel time to finish that damn movie let s reveal right now who the killer is and why he kills then the director thinks he s a director wrong no sense of suspense no sense of directing the actors no knowledge of change of pace a giant mega bore the scenes of the holy week are needless maybe a co production rule saying ok shoot in sevilla but show some creditsof this beautiful and historical town with the celebrations of easter there we are a mystery movie for tourists then the actors all wrongs mira sorvino bores herself to death she does practicly nothing except getting stabbed in the right hand everything she did best the replacement killers mighty aphrodite were like they never existed olivier martinez hello anybody here when the producers will learn that he s not an actor but a mannequin with no ability of speech nor feelings feodor atkine bland and transparent only do we pay great respect to alida valli one of the greatest actress this last century and i hope for some more roles in this current one she s tha main attraction here as she s the only one to give life to her poor lines i won t mention the other actors as they re only one sided characters uninteresting and shallow incoherent direction inconsistent actors implausible plot idiocy incarnated superwonderscope says 1',\n",
       "       b'leon was fantastic as always this time playing little richard in his early years the movie showed a fully fleshed out little richard without neglecting to fill the show with lots of great music my only complaint is that the ending was a little abrupt i was hoping for a 2 parter',\n",
       "       b'i ran across this movie on the tv and could not turn it off peter sellers plays an unlikable fellow who falls for an extremely warm and cute goldie hawn who wouldn t the way that goldie s character holds herself from the beginning of the movie to the end is untraditional even today this movie gave me a different angle into human relations and also i found it very funny peter sellers role was a difficult sell but i think he pulls it off well',\n",
       "       b'i liked this show a lot we got the first and only it would appear series in the uk on channel 4 the characterisation was right on the money a bit like the simpsons in that all the different facets of small town populace were represented there was no laughter track i hadn t seen this on an american tv comedy at the time except for on larry sanders and it really worked well here heightening the suggestion that these wacky cops were really like that and not just hamming it up for the cameras all in all a quirky little number that tickled me just right i can t help but think that maybe it missed it s mark with certain audiences i think it would have been a cult hit in the uk had it been shown at an acceptable hour i ll round this off with my standard comment where the hell can i get hold of this to watch it again any ideas',\n",
       "       b'the trivia page on imdb claims the filmmakers protested because this film was re cut by the studio to simplify the plot if so that effort was a total failure as this is one of the most incoherent narratives i ve ever seen in a film i d hate to have seen it before the plot was simplified it s sad to see warren with so little character to go on that even he can t do anything with the inept material it s interesting to see caron in 70s mode instead of her hollywood era glamour garb and persona but it s sad to see her haplessly wander through this doing a favor to her producer husband dreck she would actually later hook up with and marry the director instead who you ll note never directed anything again but did strictly 1st or 2nd a d work in tv from here on out that oughta tell you enough right there i call this interesting because i have an automatic fondness for american films of this period and this role does add perspective to oates otherwise fantastic 1971 output two lane blacktop the hired hand but the 1940s detective as fish out of water in 1970s l a theme which is the only thing the movie really has to say is sold in way too heavy handed a manner a similar theme would be far more effectively handled two years later in altman s the long goodbye and as far as oates playing a hard bitten guy on a doomed errand three years on he would give his definitive performance in bring me the head of alfredo garcia if you haven t seen those don t waste your time with this',\n",
       "       b'berlin born in 1942 margarethe von trotta was an actress and now she is a very important director and writer she has been described perhaps even unfairly caricatured as a director whose commitment to bringing a woman s sensibility to the screen outweighs her artistic strengths rosenstrasse which has garnered mixed and even strange reviews the new york times article was one of the most negatively aggressive reviews i ve ever read in that paper is not a perfect film it is a fine movie and a testament to a rare coalescing of successful opposition to the genocidal nazi regime by of all peoples generically powerless germans demonstrating in a berlin street co writer von trotta uses the actual rosenstrasse incident in the context of a young woman s search for information about her mother s never disclosed life as a child in the german capital during world war ii the husband of ruth weinstein jutta lampe has died and in a surprising reversion to an orthodox jewish lifestyle apparently hitherto in long abeyance ruth not only sits shivah the jews week long mourning ritual but she insists on following the strict proscriptions of her faith her apartment in new york city reflects the affluence secured by her deceased spouse s labors her american born daughter hannah maria schrader and her brother are a bit put off by mom s assumption of restrictive orthodox jewish practices but they pitch in the mother coldly rejects the presence of hannah s fiance a non jew named luis fedja van huet a domestic crisis might well erupt as ruth warns that she ll disown hannah if she doesn t give up doting handsome luis stay tuned a cousin arrives to pay her respects and also drops clues to an interested hannah about a wartime mystery about mom s childhood in berlin hannah is intrigued she queries her mom who resolutely refuses to discuss that part of her life this is very very realistic i grew up with parents who fled nazi germany just in time and i knew many children whose families in whole but usually in part escaped the holocaust those days were simply not discussed so hannah having learned that a german gentile woman saved ruth s life traipses off to berlin hoping to find the savior still breathing were she not this would have been a very short film but ruth pretending to be a historian locates 90 year old lena fischer doris schade now a widow as the happy to be interviewed but shaken up by repressed memories lena tells her story the scenes shift fairly seamlessly between present day berlin and the war time capital the young lena of 1943 katja riemann was a fine pianist married to a jewish violinist fabian fischer martin feifel with the advent of the nazi regime he was required to use israel as a middle name just as jewish women had to add sarah to their names incidentally i wish imdb had not given fabian s name on its characters list with the false israel included it simply perpetuates a name applied by nazis as a mark of classification and degradation while germany deported most of its jewish population to concentration camps those married to aryans were exempted for a time until 1943 when the regime decided to take them too most were men a minority were jewish women married to non jews the roundup is shown here in all its frightening intensity the young lena tries to locate her husband all she and many other women know is that they re confined in a building on rosenstrasse the crowd of anxious women builds up some piteously seeking help from german officers who predictably refuse aid and also verbally abuse them jew loving whore being one appellation as a subplot lena more or less adopts eight year old ruth who hid when her mother was seized remember ruth is now sitting shiva in manhattan the child ruth is fetchingly portrayed by svea lohde through increasingly angry protestations the women finally prevail the men and a handful of women are released as in the real story the nazis gave in one of the rare almost unprecedented times when the madmen acknowledged defeat in their homicidal agenda another was the termination of the euthanasia campaign to rid the reich of mental defectives and chronic invalids but that s another story von trotta builds up the tension and each woman s story is both personal and universal hannah continues to prod the aging lena who slowly one gathers begins to suspect she s not dealing with an ordinary historian but rather someone with a need to learn about the girl she rescued the child whose mother was murdered the contrasts between rosenstrasse of 1943 a set and the street today in a bustling rebuilt unified berlin provide a recurring thematic element today s berlin bears the heritage but not the scars of a monstrous past von trotta makes that point very well the main actors are uniformly impressive lena s husband while strong is also shown as totally helpless in the snare of confinement with a likely outlook of deportation which is shown to have been clearly understood by all characters including the local police and military as a one way trip to oblivion the older ruth is catalytically forced to confront demons long suppressed in her happy new york life hannah is very believable as a young woman whose father s death triggers a need to discover her family s past these things happen although the times s critic appears not to know that von trotta s hand is sure but not perfect a scene with goebbels at a soiree enjoying lena s violin playing is unnecessary and distractive the suggestion that she may have gone to bed with the propaganda minister the most fanatical top level hitler worshiper to save her husband detracts from the wondrous accomplishment of the demonstrating spouses and relatives most of the german officers come from central casting and are molded by the erich von stroheim copy and paste school of teutonic nastiness but that s understandable the rosenstrasse story has been the subject of books and articles and some claim it s a paradigm case for arguing that many more jews could have been saved had more germans protested unfortunately that argument is nonsense the german women who occupied rosenstrasse were deeply and understandably self interested most germans were located on a line somewhere between passive and virulent anti semitism that s why the rosenstrasse protest was virtually singular whether one buys or rejects the goldenhagen thesis that most germans were willing accomplices of the actual murderers it just can not be denied that pre nazi endemic anti semitism erupted into a virulent strain from 1933 on the elderly lena remarks that what was accomplished by the women was a ray of light in an evil time most of the men and women sprung from a near death trip survived the war so a ray of light it was and von trotta s movie is a beacon of illumination showing that some were saved by the courage of largely ordinary women and for every life saved an occasion for celebration exists and always will 9 10',\n",
       "       b'i read that this did not well that the story is not solid that volckman feels he has failed in some way i disagree first it is well executed volckman is doing well to not only to try a new technique but to have a focus that is worth thinking about would immortality reduce the value of life big question i can see he trying hard to build a feeling and he is not compromising this is to be applauded i am sure it was an interesting exercise to build characters in such a form i have seen artists reduce a form to bare minimum to build the intensity of a moment i identify this film with this further it is much more interesting than richard linklater s roto scoping and volckman s story has more meaning than linklater s later stories of a wasted life on drugs old news everyone knows it but no one does anything about it renaissance has more to offer something new to think about and there are many more stories out there with loads of holes in them that do far better well done volckman really nice work',\n",
       "       b'kabei our mother 2008 is a poetic and sublime beauty from japan a real weeper i had heard great reviews for the film and rented it from netflix am i glad i did in many ways this film reminded me of the old style of japanese classic film making from the 1940 s and 1950 s that i ve come to love so much such as seen in yasujiro ozu pictures the title credits even begin in the same way with the japanese letters characters in red against neutral color burlap material i immediately thought this director loves ozu the same style was used too mostly indoor sets with only a few outdoor scenes even a couple of pillow shots as roger ebert calls them the strength of the film is built on the love of the characters for one another the story follows the lives of a japanese family before and during and after world war two the mother takes care of her growing girls the best she can after the father a university professor is arrested for anti war sympathies he s never freed and only has a few brief meetings with his wife in prison before he dies of starvation and disease meanwhile a former student of the professor comes by often to help take care of the mother and two girls he begins to fall in love with the mother and is a substitute father for the two girls but war starts and he s drafted and they have to say an abrupt farewell will they ever express their love for one another will he ever return from the war there is so much heart and gentle spirit in the performance of the lead actress sayuri yoshinaga she s almost a madonna type she s so beautiful big soulful eyes and flawless skin the actor who plays the student is phenomenal as well his name is tadanobu asano what a sensitive performance there is no macho in him at all he s gentle and kind i d certainly love to see both of these two in other movies i think i ll check to see what s available for them the two little child actresses are wonderful too the film is just released on ntsc dvd for american audiences with very easy to read english subtitles i gave it a 10 out of 10 on the imdb i cried almost as much as with the japanese film classic twenty four eyes 1954 don t miss this film',\n",
       "       b'nope i am just not going to get with it here i refuse to go along with the program don t you supposed that perhaps this movie is just a tad over rated look at the reader comments and their star ratings most are 6 10 7 10 or better i think this is an instance when the ratings may say more about the people rendering them than the movie itself which is unique how many other sex fantasies about simulated bestiality complete with horse couplings have become mainstream hits as catalog dvd titles i watched this movie with a pervading sense of anticipation expecting fireworks and instead got someone popping a gucci shopping bag it looked great but once the thrill had been spent even the twist ending didn t do much to save it the film s background story says it all director films about 25 minutes of borderline hardcore fake bestial sex for another movie is informed the footage will not be appropriate sets it aside waits two or three years for a smattering of critical acclaim to build up then constructs an entire feature around that 25 minutes filming roughly 70 minutes of otherwise unrelated excruciatingly boring footage and inserting the 25 minute chunk in as a dream sequence that the 25 minutes of film in question is strikingly odd original and shocking in a deliberate calculated manner goes without saying but we aren t here to evaluate that 25 minutes alone we must consider the entire film and ask ourselves why people are so enthusiastic about the movie or are they just enamored by it s background story and history of having been banned by people who were stupid enough to be offended by it perhaps it is an anti clerical agenda that appeals to them hating the western religions of catholicism and christianity is one of the few remaining socially acceptable bastions of intolerance just today it was revealed that the bbc routinely skews their broadcasts with anti christian anti western sentiment in the furtherance of political correctness you can say anything you want about the bible pedopheliac priests the institutionalized cruelty of the church and how much white men and their inhuman religions suck the dimpled skin off a golf ball but say one negative thing about non westernized religions and you are toast this movie was tailor made for such a sentiment with a wrinkly old dried up priest who has an entirely unwholesome on screen relationship with two pretty 14 year old french boys complete with inappropriate touching fawning fondling fumbling groping and patting of the backsides ewww and then there is the horse couplings photographed in such fetishistic closeup detail that portions of the film could be used as visual aids for a biology class on animal husbandry yes i understand the thematic relevance of the imagery large animal phallus s with a wealth of reproductive fluids just waiting to be unleashed like fire extinguishers but if i wanted to watch horses you know do it i would like go live on a farm having their genitals in my face is about as entertaining as watching someone use a bathroom is this movie just a sort of artsy diversion for social deviants probably though i will grant the artistic execution of most of it filmed in a kind of arty euro detail that even has a dappled forest pond right out of a monet painting complete with a spanning arched bridge and the ending which even i managed to be surprised by does sort of wrap it all up into a neat if distasteful package but you have to remember that there are certain things that cannot be deconstructed for their design elements and many artists are guilty for exploiting them in their work to lend a sort of gravitas that would not have been achieved without it that isn t fair and even clint eastwood has fallen prey to the urge with his new movie about iwo jima whether or not his film is any good stands as a separate consideration from whether or not that battle was a noble cause fought by men who were heroes the problem is that most people will not be able to separate out the two aspects of the movie and will be lining up to give it oscars because of it s noble message not because it is a particularly good or original movie while it may seem like an odd parallel i see one with the beast how can anyone not see the basic beauty of nature in the sight of two horses mating and who cannot see the logical culmination of the repressed sexuality from fairy tales in the film s explosive set piece where beauty and the beast finally do the nasty somehow i managed to miss both points and am delighted that i have seen this film so that i can trash it as being what it really is 25 minutes or so of eye opening over the top adult fairy tale imagery surrounded by 70 minutes of skull drainingly boring artsy fartsy euro trash dreck about some guy getting a haircut and a great ending it s art for sure but it sucks hard 3 10',\n",
       "       b'just had to write that one liner but it really is i love the gangster genre and this is the weakest entry i ve seen in recent years i have praises for everyone involved in most aspects except the most important one the script it is a weak story about a petty criminal no amount of fine acting or black and white film styling can make up for a total lack of substance i love kevin spacey and i hear he s gonna do another film about the general my advice is don t waste your time',\n",
       "       b'reda is a young frenchman of moroccan descent despite his muslim heritage he is very french in attitudes and values out of the blue his father announces that reda will be driving him to the hajj pilgrimage to mecca something that reda has no interest in doing but agrees only out of obligation as a result from the start reda is angry but being a traditional muslim man his father is difficult to talk to or discuss his misgivings both father and son seem very rigid and inflexible and it s very ironic when the dad tells his son that he should not be so stubborn when i read the summary it talks about how much the characters grew and began to know each other however i really don t think they did and that is the fascinating and sad aspect of the film sure there were times of understanding but so often there was an undercurrent of hostility and repression i actually liked this and appreciated that there wasn t complete resolution of this as it would have seemed phony overall the film is well acted and fascinating giving westerners an unusual insight into islam and the hajj it also provides a fascinating juxtaposition of traditional islam and the secular younger generation while the slow pace and lack of clarity about the relationship throughout the film may annoy some i think it gave the film intense realism and made it look like a film about people not some formula a nice and unusual film',\n",
       "       b'written on the wind directed by douglas sirk and released in 1956 is like all of sirk s mid 50 s films pure melodrama yet it is engrossing richly developed melodrama and sirk s trademark lurid colour expressionism throbbing barely repressed emotions symbolism and juxtaposition of the classes make this a film to crave the film opens brilliantly with the four central characters and the plot being introduced as the credits are still rolling sirk uses a clever flashback structure to take us into his world robert stack and dorothy malone are magnificent as the two hadley kids kyle and marylee he drinks and sleeps around with women she drinks and sleeps around with men they both are worth millions thanks to the hadley oil business hunky yet poor mitch wayne rock hudson is kyle s lifelong friend and marylee s dream lover enter into this sordid mess lucy moore lauren bacall a slim attractive young woman who falls under kyle s charms after he picks up a phone and flies her across the countryside one evening mitch loves her too but kyle wins her they quickly marry and kyle stops drinking but fate seems to be written on the wind and it is not long before a conniving marylee who will have mitch marriage or no marriage a secretly smitten mitch the confused lucy and the sad drunk kyle come to blows malone is just wonderful as marylee hadley thoroughly deserving her best supporting actress oscar she steals every scene she is in stack is almost just as good amping up the melodrama while still maintaining subtly and quiet desperation hudson and bacall are a lot more restrained than those two yet it is in keeping with the characters they play so what s all this melodrama really about it well a lot of things stack s powerful portrait of male inadequacy and fear for one thing sirk surrounds stack with phallic symbols throughout the film note his tiny little gun the oil derricks and the ultimate phallic symbol kyle s seeming inability to conceive children stack seems to be suffering from a massive male superiority complex made worse by his father s preference for hudson his sister s desire for hudson and his suspicion that his wife is carrying on with hudson with all this wealth kyle hadley still ends up at the wrong end of town buying cheap corn liquor like a bum it s about impossible dreams and having to let go of them the river where kyle marylee and mitch used to play when they were kids is constantly referenced throughout the film symbolising kyle and especially marylee s wish for the innocence and simplicity of youth in an excellent melodramatic scene perfectly pulled off by malone marylee s stands by the river and imagines herself again as a child with voice over of mitch telling marylee that she will always be his girl this is where sirk strikes a huge emotional chord with the viewer who hasn t dreamed about going back to that special place in childhood who hasn t at some point lived on a treasured memory who hasn t wanted something they couldn t have and hudson s last line of the film yes he gets no dialogue in the last 10 or so minutes only close ups recollects on how far we ve come from the river marylee amazing',\n",
       "       b'i grew up on this classic western series and as a child always considered it a treat being allowed to stay up late on sunday evenings to watch it bonanza is still infinitely re watchable in re runs the series chronicles the adventures of the cartwright family who live on a ranch near virginia city nevada around the civil war era their ranch called the ponderosa is run and defended by the widowed father ben and his unmarried three sons adam hoss and little joe these three brothers have different mothers all of whom have passed away years earlier the cartwrights are a hard working prosperous and honourable family highly respected in those parts the ponderosa is large so reaching its extremities requires a lot of horseback riding also trips away are often necessary in order to buy or sell cattle and so forth needless to say few of these excursions pass uneventfully although hospitable much of the cartwrights energy must be spent defending their ranch from interlopers or protecting themselves from townsfolk jealous of their prosperity and stellar reputation the cartwrights do a fair bit of firing their guns up in the air and such but only shoot to kill when deemed absolutely necessary they are involved in various town affairs even the political life of the nevada territory one of the main assets of the series is the underlying warmth that is always present despite occasional disagreements between ben and his three sons and despite frequent disagreements between the three brothers now one brother might beat up another every now and then but generally has a good reason for it at the time and his anger never lasts long the characters are all very well drawn ben is portrayed as a successful and noble man of great integrity the oldest son adam the most rational and suave of the brothers left midway through the series the middle brother hoss is a gentle giant of a teddy bear who has an insatiable appetite for food and is a little shy around the ladies the youngest little joe is a hot headed handsome charmer who by contrast has quite a way with women this trio of brothers enjoy various romances but their love interests are typically killed off by the end of the episode or else marriage proves impossible for whatever reason the actors are all stellar in their roles including pernell roberts adam dan blocker hoss michael landon little joe and of course lorne greene as the principled family patriarch ben i also love the ranch cook hop sing played by victor sen yung this is a wonderful action packed western with great values the cartwrights are always the noble heroes and most of the bad guys quite villainous if only there were more programs like this vintage western on tv these days',\n",
       "       b'the unflappable william powell he is a joy to watch on the screen as he makes his way through situations without a care in the world he always seems on top of his game and shows little care for anyone who doubts him the murders are projects barely human beings i have noticed this is a staple of the whodunnit other than an occasional weeping widow the victims fulfill the function of being the reason the movie exists nothing more there are enough twists and turns to keep things interesting along the way and powell is a master at this there is a lot of political incorrectness especially as it relates to the asian performers this is a little hard to take the cast is great and curtiz s direction is also a consistent asset',\n",
       "       b'i thoroughly enjoyed the first part of this two parter the impossible planet and was slightly worried that the second part wouldn t hold up quite so well as has been true in the past of the two parters of the past 2 who series but thankfully my fears were unfounded as i found myself enjoying this episode as much as the previous one anyway we start off with the surviving crew members on the run from the ood whom have become the devil s pawn there is also a bit of philosophizing on the doctor s part in the episode that i quite enjoyed needless to say it was a good solid doctor who story might be a tad too intense for the younger viewers though my grade b',\n",
       "       b'in brooklyn a century ago the rivalry between chuck connors and steve brodie and their competing volunteer fire brigades leads to brodie s famous bet that he can jump off the brooklyn bridge this is a story which will be familiar to a lot of people through a bugs bunny spoof bowery bugs from 1949 this generally very enjoyable film would probably be more widely available if it were not for the notorious and unsettling scene involving some chinese tenement dwellers a time capsule of antediluvian racial attitudes giving the film a great deal of historical interest in my view',\n",
       "       b'there was some hesitation from my part about what this movie had to offer for starters the casting didn t seem right kiefer sutherland had already done very well in 24 and the preview didn t seem to offer anything challenging to him or the audience eva longoria appeared out of place and the rest didn t seem very interesting when the film finally ended i was not completely displeased for i had seen a decent thriller that could have been much better had the responsible parties taken a little more care to watch for the narrative gaps and given a little more care to character development we have seen threats of this type before and that made the main conflict much more challenging to the writers as an audience we don t want to sit through the same old story again we want to see something different be thrilled and entertained there is nothing wrong with the casting from kim basinger s delicious first lady she carries herself with enough grace and sex appeal to make the part memorable michael douglas has been and done that before unfortunately the president is much of a non entity to even care about his fate sutherland rehashes his 24 tough guy approach with enough power to make it big enough for the big screen and eva does a passable job as the newcomer don t expect as many twists and fireworks as some of the established classics north by northwest and the fugitive come to mind leave your expectations outside and enjoy the ride for whatever it might be it s o k',\n",
       "       b'to watch this film from start to finish without bursting into laughter at some point requires almost an act of faith as one has to keep saying to oneself it s old it s a classic be kind not because the movie is so bad but because at its best it s so good this is one dated movie it s also a classic if a tarnished one i m not inclined to laugh at people anyway on principle and i get more than a little irritated when others do so to make fun of the informer to my mind is a little like giggling at an idiot savant when he dribbles his orange juice all over the tablecloth yes one says to oneself he is an idiot and yet when he s on top of his game he is also a true savant the same is true for the informer which is on occasion very dreadful indeed and yet it boasts splendid photography some fine acting a wonderful score and a good decent simple story in the end which i won t give away politics religion and psychology come together in a church in such a way as to make the scene seem corny and over the top and yet so is life sometimes uneducated people of simple faith behave differently from us presumably brilliant modern folks and the scene isn t so much unbelievable i buy it but i know the irish as embarrassing yet people do behave that way they do say things like that not everyone is hip and it may not even be desirable for everyone to be hip are people today so much superior to those of seventy or eighty years ago and in what way i don t think so we re just different now go watch the movie',\n",
       "       b'why am i so convinced there s actually another film version of this novel out there somewhere i saw the film again this year as i am teaching the novel and find the changes in the film annoying there is no appearance of the little boy in the novel and the ending has been changed they kill him off in the film but the whole point is that he is haunted by the events at eel marsh house for many years but does remarry and eventually put the events behind him mr bentley is a far more sympathetic character in the novel the scene in the film where kipps sets fire to the office is plain daft and the constant appearance of the toy soldier to signify the presence of the child is genuinely creepy but pointless kipps is haunted by the woman seeking revenge not the child i am sure i ve seen a film which is better and closer to the novel and actually scarier have i just imagined this',\n",
       "       b'the thief of bagdad is a treasure first and foremost it is a good story though my four children s primary exposure to this tale the most famous of the stories of the arabian nights comes from the disney corporation the thief of bagdad held their interest to the end the story moves along at a good pace and includes a twist or two that reduced predictability sabu who plays the young thief abu also measures up to any of today s teen actors in appeal judging from the number of times i heard my oldest daughter say he s c u t e in 1940 the film won oscars for cinematography and special effects today of course those effects seem very dated look it s barbie flying through the air declared my daughter at the sight of the genie flying yet they fit into the story well the film is after all over 60 years old the effects fit with the script furthermore what ones sees in the thief of bagdad remained pretty much state of the art for the next twenty five years one need only compare the opening montage from a 1967 star trek episode to see this in that it was quite an achievement this qualifies as a family film though there are a few stabbings near the end the acting is so obvious and the wounds so bloodless as to those scenes nearly as artificial as animation all in all a fun film worth watching for either an evening of pure entertainment or for the historical value of the effects i recommend it',\n",
       "       b'incredibly intriguing and captivating i found it impossible to turn away once i began to watch i am usually one of the harshest critics but to me this film was just brilliant strange as this may sound i could almost smell the air and feel the textures of the locations from a cinematographic i thought there was great use of light and texture from the orange glow of the summer light down to the plastic wrapped couch all had a distinct air of realism to me from a character perspective i thought the notion of victor vargas as almost the glue that connects the story was quite inspired each of the other members of the family having a more complete background simply caused greater intrigue in the main character himself beyond that having known someone just like the grandmother and having been on the receiving end of just such a situation i can say the situation felt particularly realistic the awkwardness the accent the cooking and even down to the comments made felt so authentic to me i think this film worked for me because i began to watch it with no expectations and found it completely immersing and brought back memories of teenage emotion well worth a watch',\n",
       "       b'deep shock plays out like a tv movie a whole cast of commercial quality actors a poorly designed creature to be the bad guy and a script that is more full of technical political jargon and importances than it knows what to do with i checked out the movie because of the creature i love to see what filmmakers have in mind for their designs in these cheaply made videos and right off the bat i got disappointed because the creature on the box was not the one in the movie the actors i expected because of the type of film it is really quite generic and not thought out past a certain point the music was typical not thought out action symphonic music i liked the design of the computers and technical equipment along with the mini sub design the movie even flowed really well with guiding screens letting you know which set you re watching the story unfold in but there isn t much of a story here anyways this movie gets a 3 10 stars imo the boring search and destroy mission to blow up the north pole and these creatures protecting it kinda lame even lamer is the tagged on love relationship between two of the characters that you don t see coming chalk this one up to being a movie which tries to get actors careers off the bench and into a video don t bother',\n",
       "       b'what is it is a mish mash of bizarre recurring motifs snails shirley temple swastikas and overtly racist music among others unfettered by any sort of narrative or plot or character development the whole thing struck me as self consciously freak show and i don t mean only the unusual casting decisions it has the feel of a bad acid trip far beyond any level of drug use one might attribute to hunter s thompson or william s burroughs the only movie to which i can compare it is eraserhead my second least favorite film of all time which was by intent much more depressing but i still found what is it a total waste of my time it s one thing to give me a peek into the inner workings of someone else s mind even someone else s chemically altered consciousness but quite another to just throw weird visuals at me purely for the sake of weirdness',\n",
       "       b'daniell steel s daddy what a refreshing story this movie glorified the importance of the family and the importance of parents in the lives of their children how rare is that in these times of heather has two mommies or what ever you fill in the blanks it is easy to see why this theme is not for everyone with the father s roles being prominent i was hoping this would be another daniell steel saga how disappointing to have it end every character was important and did a fabulous job carrying their role i would have loved to see each character develop over the years i loved this movie it is one i will defiantly watch every time it s on good story good acting and i hope this isn t a spoiler but no obtrusive sex or bad language yes it touched my heart warning get the kleenex ready what i find sad is that this side of family life is rarely depicted today in our entertainment be it television or movie s daniell if your listening you go girl give us more',\n",
       "       b'i felt asleep watching it and i had tickets for the midnight premiere any questions the most disturbing scene as far as i can remember was the techno dance i dont know what that was scene by the way what an ending',\n",
       "       b'the filming is pleasant and the environment is keenly realistic i liked that it boldly redresses conceptions of the many difficult moral and social morays of the 1930 s chinese mainland countryside as well as more basic human questions i felt i could get a real sense of the times recreated even in splendid shots of traditional chinese theatre and in purist depictions of street living it seemed worthwhile to experience the interwoven role which buddhism plays is probably the most true to form both in its menial and in its philosophic aspect perhaps the most effective that i ve seen in chinese film casting is great images are memorable acting is solid enough thematically puerile but still rich enough to compliment the vehicle of its expression',\n",
       "       b'chilly alienating adaptation of rebecca west s book about an army captain returning from duty in wwii with his memory impaired now there s an original idea it seems he remembers old flame glenda jackson but not current wife julie christie which should be enough to set off some emotional sparks this extremely well cast soaper brings together leading man alan bates with director alan bridges and co stars jackson christie ann margret and ian holm but the burners are all on low there are a handful of good scenes particularly whenever jackson is on screen but bridges pacing is unrelievedly sluggish and the film s dulled out color is enervating long on the shelf this soldier is best left forgotten 1 2 from',\n",
       "       b'howling ii 1985 was a complete 180 from the first film whilst the first film was campy and creepy the second one was sleazy and cheesy the production values on this one are pretty bad and the acting is atrocious the brother of the anchorwoman werewolf from part one wants to find out what happened to his sis the scene from the first film was badly re created a skinny plain looking woman accompanies bro reb brown to the old country romania to uncover the mystery to her sister s murder transformation death christopher lee appears and disappears over now and then as sort of a sage guide to the two sybil danning and her two biggest assets appear as stirba the head werewolf of the romania she also suffers from a bad case of morning face ewww bad movie there s nothing good about this stinker i m surprise philippe mora directed this picture because he s usually a good film maker the film is so dark that you need a flashlight to watch it no not the content but the film stock itself to round the movie off you get a lousy punk performance from a damned wannabe babel maybe if they forked over a couple of extra bucks they could ve got the real deal instead of an imitation best to avoid unless you re desperate or you lost the remote and you re too lazy to change the channel',\n",
       "       b'john waters has given us a genuinely enjoyable film this certainly isn t without its shocking waters esque moments but it is tamer than his older culty stuff such as pink flamingoes pecker harkens back to john s early mainstream stage in that it reminds the viewer of the same kind of humor that was evident in polyester overall a really fun comedy with some great moments',\n",
       "       b'as a baseball die hard this movie goes contrary to what i expect in a sports movie authentic looking sports action believable characters and an original story line while angels in the outfield fails miserably in the first category it succeeds beautifully in the latter two angels weaves the story of roger and j p two anaheim foster kids in love with baseball but searching for a family with that of the woebegone angels franchise struggling to draw fans and win games pushed by his deadbeat father s promise that they would be a family only when the angels win the pennant roger asks for some heavenly help and gets it in the form of diamond dwelling spirits bent on reversing the franchise s downward spiral and when short fused manager george knox portrayed by danny glover begins believing in what roger sees the team suddenly has hope for turning their season around and roger and j p find something to believe in glover in particular gives a nice performance and tony danza playing a washed up pitcher also does well despite clearly having zero idea of how to pitch out of the windup',\n",
       "       b'this film reminds me of 42nd street starring bebe daniels and ruby keeler when i watch this film a lot of it reminded me of 42nd street especially the character eloise who s a temperamental star and she ends up falling and breaks her ankle like bebe daniels did in 42nd street and another performer gets the part and become a star this film like most race films keeps people watching because of the great entertainment race films always showed black entertainment as it truly was that was popular in that time era the dancing styles the music dressing styles you ll love it this movie could of been big if it was made in hollywood it would of had better scenery better filming and more money which would make any movie better but its worth watching because it is good and micheaux does good with the little he has i have to say out of all micheaux s films swing is the best the movie features singers dancers actresses and actors who were popular but forgotten today doli armena a awesome female trumpet player who can blow the horn so good that you think gabriel is blowing a horn in the sky the sexy hot female dancer consuela harris would put ann miller and gyspy rose lee to shame adding further info popular blues singer of the 20 s and 30 s cora green is the focus of the film she s mandy a good hard working woman with a no good man who takes her money and spend it on other women a nosy neighbor played by amanda randolph tells mandy what she seen and heard and mandy goes down to the club and catches her man with an attractive curvy woman by the name of eloise played hazel diaz a hot cha entertainer in the 30 s and a fight breaks out then mandy goes to harlem where she reunites with a somewhat guardian angel lena played by one of the most beautiful women in movies dorothy van engle lena provides mandy with a home a job and helps her become a star when temperamental cora smith played by hazel i guess she s playing two parts or maybe she changed her stage name tries to ruin the show with her bad behavior when cora gets drunk and breaks her leg lena convinces everyone that mandy is right for the job and lena is right and a star is born in mandy tall long lanky but handsome carman newsome is the cool aspiring producer who lena looks out for as well pretty boy larry seymour plays the no good man but after lena threatens him he might shape up there are a few highlights but the one that sticks out to me is the part where cora smith hazel diaz struts in late for rehearsal and goes off on everyone and then her man comes in and punches her in the jaw but that s not enough she almost gets into a fight with mandy again in between there s great entertainment by chorus girls tap dancers shake dancers swing music and blues singing there s even white people watching the entertainment i wonder where micheaux found them there s even a scene where there s blacks and whites sitting together at the club micheaux frequently integrated blacks and whites in his films he should be commended for such a bold move this movie was the first race film i really enjoyed and it helped introduced me to oscar micheaux this movie is one of the best of the race film genre its a behind the scenes story about the ups and downs of show business no these early race films may not be the best can t be compared with hallelujah green pastures stormy weather cabin in the sky carmen jones or any other hollywood films but their great to watch because their early signs of black film making and plus these films provide a glimpse into black life and black entertainment through a black person s eyes these films gave blacks a chance to play people from all walks of life be beautiful classy and elegant and not just be stereotypes or how whites felt blacks should be portrayed like in hollywood most of the actors and actresses of these race films weren t the best but they were the only ones that could be afforded at the time micheaux and spencer williams couldn t afford nina mae mckinney josephine baker ethel waters fredi washington paul robeson rex ingram and more of the bigger stars so micheaux and other black and white race film makers would use nightclub performers in their movies some were good some weren t great actors and actresses but i think micheaux and others knew most weren t good actors and actresses but they were used more as apart of an experiment than for true talent they just wanted their stories told and in return many black performers got to perform their true talents in the films for some true actors actresses race films were the only type of films they could get work especially if they didn t want to play hollywood stereotypes so i think you ll be able to spot the true actors actresses from the nightclub performers these race films are very historic they could have been lost forever many are lost maybe race films aren t the greatest example of cinema but even hollywood films didn t start out great in the beginning i think if the race film genre continued it would have better if your looking for great acting most race films aren t the ones but if your looking for a real example of black entertainment and how blacks should have been portrayed in films than watch race films there are some entertaining race films with a good acting cast moon over harlem body and soul paradise in harlem keep punching sunday sinners dark manhattan broken strings boy what a girl mystery in swing miracle in harlem and sepia cinderella that not only has good entertainment but good acting',\n",
       "       b'i ve read countless of posts about this game being so similar to max payne when i played it the first time i thought it was a bit weird arcade like game with a desire to rip off the max payne style not just bullet time so when i played it for a couple of hours i realized how much fun it is and how different from max payne yeah the bullet time is a bit similar but i think it fits differently to the game style this game is non stop action a mix between a shoot em up and a fight em up so much fun as a big fan of max payne i must say that the storyline of dtr is not near to the greatness of max payne the graphics are a bit average and some of the levels look the same but if you want a bit more of that bullet time you should definitely own this game',\n",
       "       b'yowza if anyone who loves laurel and hardy can watch this movie and feel good about it you re a better person than me this movie while a great attempt at imitating laurel and hardy through appearance sound and routine falls very short of honoring them or even being a movie of any substance i blame larry harmon dialogue is torn from old l h movies and planted in unrealistically the plot is muddled with useless characterization of the other needless co stars pinchot s accent was bizarre for stan and while sartain did an excellent job with ollie s accent he tried too hard to create the wonderful mix that was mr hardy where was a good musical number editing is choppy acting is stiff lines are horrid physics are implausable although perhaps they were trying to give it that feel of cheap sets and overall it s a terrible thing to witness it s even more painful to watch than atoll k where the legendary duo did their last film in awful 1950 s era writing and photography do yourself a favor and watch as much of the original laurel and hardy films as you can and learn how things were you know what a magnate is don t you stan laurel did not perpetually reply with semi moronic quips at every sentence i pity anyone who thinks that this was a decent update honor of the boys where was the classic theme song why ruin here s another fine mess why skip any the wiser why was there a pointless gaggle of co stars why miss gulch from the wizard of oz why must larry harmon be in it why bozo and did the learning channel help fund the thing i mean really fart jokes for god s sake fart jokes',\n",
       "       b'i saw this pilot when it was first shown and i m sure countless spirit fans hate it because like batman the green hornet etc it took the character in the direction of camp but i evidently never got enough of batman because i thought it was entertaining in some of the same ways as that show there are two parts that stay with me first when denny s partner has been fatally wounded and he makes a dramatic speech about how he always stood for the law and obeying the exact letter of it then he says something like boy was i stupid which is his way of telling denny to become a vigilante instead which he does though the tv batman kind then there s the scene where he tries to seduce the villainess into letting him go by kissing her but she isn t fooled because he s too honest to kiss her convincingly this was a great example of camp that was also underplayed by both the actor and actress',\n",
       "       b'i have no idea how imdb sorts reviews but i do know that as happens often on amazon com there are a striking number of very negative reviews for this movie which repeat the same somewhat obscure talking points almost verbatim a campaign only imdb knows as for this movie it s fine it s a funny cute and very straightforward movie it s been over a decade since i worked in brooklyn lived in queens and visited relatives in the south bronx but i found nothing inauthentic or exploitative about these kids is the grandmother a bizarre character yup do the dialogue and plot acknowledge this yes thankfully they do are other movies set in the les and featuring dominican puerto rican kids possible you betcha does that make this movie a crime as some of the to my eyes astroturf comments would suggest hardly let a thousand plastic flowers bloom this is better than any episode of degrassi jr high or degrassi high scoff at the comparison but _we ve never had that_ and i m touched to the core by this movie s humility of purpose and tender spirit that said i d love to know the backstory behind all this backbiting d',\n",
       "       b'is it a coincidence that orca was made two years after jaws orca isn t exactly a jaws rip off but it is obvious that it tried to profit from jaws s success first of all orca in my opinion was a bad movie not terrible but definitely not good average at best the plot is basically a male killer whale orca after seeing its mate and its unborn calf killed by a fisherman seeks revenge i couldn t stand to watch this movie again the direction of this film is poor and when compared to jaws it looks like the director producers and writers were almost talentless as for the acting it was very average and believable however the actual characters aren t the least bit likable the effects were alright for its time and the footage of the killer whale looked pretty good the violence is confusing bloody and not recommended for more sensitive people the music is overdone and very loud drowning out the sound effects and irritating at times i hated the way they exaggerated the intelligence of the killer whale killer whales don t mate with only one mate as depicted in orca overall this movie was bad poor in my opinion because of the reasons listed above some people may appreciate this film more because of the concept of vengeance amongst animals and humans so i m not going to bash this movie and i can understand why some people may like it my rating 3 5 10 but for its concept possibly a 5 10',\n",
       "       b'this film has a very simple but somehow very bad plot the entire movie is about a girl getting sucked through a gate to another dimension then years later it gets opened again by a witch while a group of friends including the lead actor who is having trouble getting over his ex girlfriend who is one of the other campers along with her new partner another girl that s right they re lesbians and there is some nudity of course for no particular reason unfortunately demon follows the now adult girl back through also unfortunately none of this is ever explained where exactly were they where did the demon come from how did she survive as a child in a place full of evil demons who the hell trained her and made her a gladiator type outfit the acting is terrible i think but it s hard to tell because the writing is so bad maybe there was just nothing they could do with it i give it a three because the wrestler was pretty good and the effects were pretty fun even though they were very cheap i would not recommend it it wasn t quite bad enough to be funny',\n",
       "       b'actually i m surprised there were so many comments about this movie i saw it as part of a slavic film festival at a major american university but nobody in usa has heard of it which is a real shame the dynamics between the people are what makes it both funny and sad they are stuck together on a long bus trip someplace most of us have been but i never had one like this my favorite scene is the one where they stop for the funeral then the man woman sneak off for some lovemaking in the forest but everybody follows them to watch without them knowing just as she raises her skirt and he enters her all the way the consumptive starts hacking they realize everybody is watching talk about surprised but you really have to feel for them even if it is hilariously funny when you see the ending it is sort of ironic that they enjoyed themselves while they did serb humor at it s best',\n",
       "       b'you have to admire brad sykes even if you don t particularly want to a man who churns out budget horror after budget horror to less than enthusiastic receptions but keeps on doing it all the same even the half hearted praise than surrounds his camp blood films is given grudgingly and i m as guilty of this as anyone brad normally manages to throw something interesting into the mix a neat idea a kooky character whatever but without the funds to take it further than base level he relies on the audience to cut him some slack and appreciate it for what it is and what it could be joe haggerty gives a spirited and very funny performance as ebenezer jackson and its a credit to sykes that he can sense that this oddball turn is going to work within the framework of the film coming to a multiplex near you in a parallel universe somewhere',\n",
       "       b'though not seen in too many films prior you have certainly seen the basic plot themes in too many films since not one of grant s nor loy s best films they make an outstanding effort together after all with that much talent and very good supporting cast you know the laughs will be there the film is light has some dramatic spotting but keeps the plot moving and gets you to smile the whole way through a great example of classic american film fare that has stood the test of time definite saturday afternoon fare heavy on the popcorn',\n",
       "       b'ulises is a literature teacher that arrives to a coastal town there he will fell in love to martina the most beautiful girl in town they will start a torrid romance which will end in the tragic death of ulises at the sea some years later martina has married to sierra the richest man in town and lives a quiet happy live surrounded by money one day the apparition of ulises will make her passion to rise up and act without thinking the consequences the plot is quite absurd and none of the actors plays a decent part in addition three quarters of the film are sexual acts which still being well filmed are quite tiring as we want to see more development of the story it is just a bad bigas luna s film with lots of sex no argument and stupid characters everywhere',\n",
       "       b'many people thought that this is a good movie but i don t agree with them at the beginning of the movie a spaceship crushed on earth and some of the aliens escaped from the spaceship then hey killed some people on the earth but for no reason also it is in a dark forest i can t see anything on the screen i can only hardly hear the sound after a few days the predator came to the earth but no one had sent signals to him before that he should not know what happened on the earth so there is a contradiction finally the predator found the headmaster of the aliens and killed it for no reason he was not live on earth t is none of his business about the things happened here lastly the duration of the movie is only 90 minutes long the summary is too short and it can t tell the reviewers about the story clearly in conclusion i don t think this is a good movie',\n",
       "       b'the movie took a new angle to gandhi s life which is nice to see and it shows how human he was his relationship with harilal is something that gandhi was troubled by and mentioned it several times as his failure as a father in his autobiography my big gripe is that i thought gandhi was surprisingly uncharismatic in the movie it could have been better acted by the person who played gandhi some of gandhi s statements seemed too smug and it seemed as if he was intentionally portrayed in a negative light in some parts of the movie the movie is not really all rounded but focused only narrowly on the relationship of the father and son the rest is blurred out and only used to show the time frame and the general setting of the movie overall nice movie if you keep in mind that it is not a complete picture',\n",
       "       b'fassbinder s most lavish production sacrifices little of his talent for identifying and deconstructing a locus of suffering in long mobile takes that somehow also act as social encapsulations here it s much more overt since the story takes place in war torn germany at the end of wwii and the central character is a woman hanna schygulla as maria who capitalizes on vulnerabilities both economic and gender related to catapult herself up the ladder of a prominent textile corp that makes coveted goods like lederhosen available to indigent workers as she once was married amidst allied air raids maria and her new husband herrmann are allowed a brief honeymoon before he s shipped out to the russian front in his absence her despair is great she spends most days at the train station waiting for him to return when he is reported dead she abruptly stops grieving and takes a job as a barmaid prostitute at a brothel catering to american gi s when he returns things get plenty messy as circumstances and his sense of noble self sacrifice conspire to keep them apart the message is fassbinder s m o writ large love is colder than death but not only is maria contending with her own sanity and a husband largely incapable of loving her but a country in deep flux with no discernible light at the end of the tunnel fassbinder is making some kind of statement on post war germany selling out to the highest bidder but as with all his films i tend to block those elements out and focus on the unbearable passions on display fassbinder s as evoked through his characters his actors as filtered through their real life connections with fassbinder taken together his films can be either unbearable or indescribably mesmeric often at once this falls somewhere in between although definitely closer to the latter while i didn t like it quite as much as the bitter tears of petra von kant or katzelmacher maria braun certainly has a greater scope and what s more i could feel its passion and authentic detail to human emotions',\n",
       "       b'i really loved this film yes i know it was fairly far fetched there is no way that shelby car could have managed to stay on the road as well as the 540i with all it s traction control and other gizmos but other than that the whole film was well put together cage was excellent as usual and the rest of the cast were also pretty good with the exception of the brit bad guy he was a little too much don t you think anyway great film great cars and great acting i for one made sure my car was locked and alarmed in my remotely controlled garage that night',\n",
       "       b'the sentinel i was hoping would be a good film and boy i was right a great story first of all from a novel and i thought this was an original story but i guess it wasn t and it was a very smart story michael douglas in this film is very good and keither sutherland is too but however it is very hard to shrug him off his role as jack bauer in 24 but eventually you do and he is very different in the sentinel than he is in 24 also another person trying to shrug off their tv role but failed eva longeria she wasn t that good in the film and had a back seat in the entire thing after i saw the film i had constant dreams about the sentinel and couldn t sleep overall sentinel is a good film and i would recommend it',\n",
       "       b'this is not a very good movie but it s not a stinker either it is very confusing and unnecessarily long so rent it at your own risk my gf and i have figured this movie out we think so here it is major spoilers below firstly this movie is actually quite simple after you remove all of the confusing unconscious dream state junk 95 of the movie ignoring the junk what really happened is this a group of school friends go to a rave one night they leave and get into a car accident where everyone but cassie and sean die that s the simple cut down version that s right i said sean bear with me right after the accident cassie lays in the hospital stuck in between life death right up until the very end of the movie this is where the dream part starts the movie is called soul survivors right cassie s mind and soul carries on after the accident interacting with the other souls annie matt raven the 2 weirdos and jude along with images conjured up by her mind sean school and everything else around her the souls continue doing what they were defined as annie the rave going chick the 2 weirdo killers from opening scene father jude still helping people etc we are then taken on a very long ride shown lots of images many of which my gf and i still can t tie in but it all boils down to it not being cassie s time to die at the end cassie wakes up in the hospital after being dead for a while her family and sean are there this is reality again she s ok then the director adds a little extra spice by trying to confuse us again by showing a little dream snippet of her in the wheelchair being strangled but this part is really just a nightmare and she wakes up beside sean obviously still dealing with her traumatic experience due to space restrictions we didn t cover every little thing but feel free to drop us an e mail if you want to',\n",
       "       b'i have to admit that holly was not on my watch list for the edinburgh film festival however after the artistic director of the festival specifically recommended this film to an audience of over 200 people prior to the screening of another film i decided to go to see it wow this film is dealing with the very difficult issue of child prostitution and does so without any compromise i have found myself crying a number of times during the movie and laughing at others speaking about an emotional roller coaster the lead actor thuy nguyen is a vietnamese newcomer who was only 14 at the time of filming and had to tackle this incredibly complex and difficult role she reminded me of keisha castle hughes from whale rider but the role here is much more demanding as she has to play a child prostitute chances are that she will win numerous awards the main story is about a girl who was sold to prostitution by her family and held as a sex slave in a brothel in cambodia she meets an american played by ron livingston in a strong dramatic role that we are not used to see from him who after spending some time with her decides to help her by that time however she is sold again and he is going on a search for her around cambodia the story turns and twists and the audience can never predict what will happen next the acting was strong across the board with a very interesting international cast udo kier very convincing as a sex tourist virgine ledoyen touching as a social worker and chris penn one of his last movies the asian cast was also superb although the film deals with this difficult subject matter it focuses successfully on telling a compelling powerful story it was shot in cambodia some scenes in real operating brothels which adds to the feeling that you are almost watching a documentary it seems that the dp used a lot of hand held camera and close ups and overall it made you feel like you are right there as part of the story after the screening i was listening to other members of the audience as they left and it seemed that they were all stunned this is not an easy film to watch and i salute the filmmakers for not making a hollywood film it is by far the best film i have seen in the edinburgh film festival opinion shared by my husband and a couple of other friends'],\n",
       "      dtype=object)>"
      ]
     },
     "execution_count": 78,
     "metadata": {},
     "output_type": "execute_result"
    }
   ],
   "source": [
    "item[0]"
   ]
  },
  {
   "cell_type": "code",
   "execution_count": 79,
   "metadata": {},
   "outputs": [
    {
     "name": "stdout",
     "output_type": "stream",
     "text": [
      "(75,)\n",
      "(95,)\n",
      "(707,)\n",
      "(52,)\n",
      "(86,)\n",
      "(167,)\n",
      "(291,)\n",
      "(1218,)\n",
      "(194,)\n",
      "(421,)\n",
      "(879,)\n",
      "(97,)\n",
      "(255,)\n",
      "(569,)\n",
      "(474,)\n",
      "(135,)\n",
      "(130,)\n",
      "(100,)\n",
      "(271,)\n",
      "(306,)\n",
      "(172,)\n",
      "(268,)\n",
      "(209,)\n",
      "(241,)\n",
      "(159,)\n",
      "(185,)\n",
      "(42,)\n",
      "(127,)\n",
      "(124,)\n",
      "(243,)\n",
      "(67,)\n",
      "(194,)\n",
      "(1026,)\n",
      "(163,)\n",
      "(304,)\n",
      "(174,)\n",
      "(206,)\n",
      "(262,)\n",
      "(203,)\n",
      "(170,)\n",
      "(157,)\n",
      "(100,)\n",
      "(145,)\n",
      "(174,)\n",
      "(154,)\n",
      "(355,)\n",
      "(112,)\n",
      "(150,)\n",
      "(359,)\n",
      "(428,)\n"
     ]
    }
   ],
   "source": [
    "for it in item[0]:\n",
    "    sh = tf.strings.split(it).shape\n",
    "    print(sh)"
   ]
  },
  {
   "cell_type": "code",
   "execution_count": 106,
   "metadata": {},
   "outputs": [],
   "source": [
    "rg = tf.ragged.constant([[1,2,3],[2],[5,6]])"
   ]
  },
  {
   "cell_type": "code",
   "execution_count": 110,
   "metadata": {},
   "outputs": [
    {
     "data": {
      "text/plain": [
       "[<tf.Tensor: shape=(3,), dtype=int32, numpy=array([1, 2, 3], dtype=int32)>,\n",
       " <tf.Tensor: shape=(1,), dtype=int32, numpy=array([2], dtype=int32)>,\n",
       " <tf.Tensor: shape=(2,), dtype=int32, numpy=array([5, 6], dtype=int32)>]"
      ]
     },
     "execution_count": 110,
     "metadata": {},
     "output_type": "execute_result"
    }
   ],
   "source": [
    " [elem for elem in rg]"
   ]
  },
  {
   "cell_type": "code",
   "execution_count": null,
   "metadata": {},
   "outputs": [],
   "source": []
  }
 ],
 "metadata": {
  "kernelspec": {
   "display_name": "Python [conda env:tensorflow]",
   "language": "python",
   "name": "conda-env-tensorflow-py"
  },
  "language_info": {
   "codemirror_mode": {
    "name": "ipython",
    "version": 3
   },
   "file_extension": ".py",
   "mimetype": "text/x-python",
   "name": "python",
   "nbconvert_exporter": "python",
   "pygments_lexer": "ipython3",
   "version": "3.7.6"
  }
 },
 "nbformat": 4,
 "nbformat_minor": 2
}
